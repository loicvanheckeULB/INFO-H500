{
 "cells": [
  {
   "cell_type": "code",
   "execution_count": 1,
   "metadata": {},
   "outputs": [],
   "source": [
    "%matplotlib inline\n",
    "from IPython.display import HTML,Image,SVG,YouTubeVideo"
   ]
  },
  {
   "cell_type": "markdown",
   "metadata": {},
   "source": [
    "# Image restoration"
   ]
  },
  {
   "cell_type": "markdown",
   "metadata": {},
   "source": [
    "The process of mage acquisition is rarely perfect,  physics or external conditions may deform the image being acquired, ... In this section are presented some examples of typical problems."
   ]
  },
  {
   "cell_type": "markdown",
   "metadata": {},
   "source": [
    "## Deformation model"
   ]
  },
  {
   "cell_type": "markdown",
   "metadata": {},
   "source": [
    "The original image noted $f(x,y)$ undergoes a deformation, given by $H$, and also an additive noise $\\eta(x,y)$. The acquired image is noted $g(x,y)$. The summarised equation is given below, as well as the corresponding block diagram as illustration. The restoration problem can be stated as follow : how is it possible to recover a good approximation of $f(x,y)$ from $g(x,y)$ ?\n",
    "$$\n",
    "g(x,y) = H[f(x,y)] + \\eta(x,y)\n",
    "$$\n",
    "|Block diagram of the process of image acquisition|\n",
    "|:-:|\n",
    "|<img src=\"../data/restauration.png\" alt=\"Block diagram of the process of image acquisition\" title=\"Block diagram of the process of image acquisition\" width=\"400\"/>|\n",
    "\n",
    "The properties of $H$ are listed below.\n",
    "1. Linearity : $H[k_1 f_1(x,y) + k_2 f_2(x,y)] = k_1 H[f_1(x,y)] + k_2 H[f_2(x,y)]$\n",
    "2. Additivity : $H[f_1(x,y) + f_2(x,y)] = H[f_1(x,y)] + H[f_2(x,y)]$\n",
    "3. Homogeneity : $H[k_1 f_1(x,y)] = k_1 H[f_1(x,y)]$\n",
    "4. Spatial invariance : $H[f(x-\\alpha,y-\\beta)] = g(x-\\alpha,y-\\beta)$"
   ]
  },
  {
   "cell_type": "markdown",
   "metadata": {},
   "source": [
    "## Point Spread Function"
   ]
  },
  {
   "cell_type": "markdown",
   "metadata": {},
   "source": [
    "The function $f(x,y)$ can be rewritten as a sum of Dirac function as shown in the equation below.\n",
    "$$\n",
    "f(x,y) = \\int_{-\\infty}^{\\infty}\\int_{-\\infty}^{\\infty} f(\\alpha,\\beta) \\ \\delta(x-\\alpha,y-\\beta) \\ d\\alpha \\ d\\beta\n",
    "$$\n",
    "If there is no addiditive noise $\\eta (x,y)$, then $g(x,y) = H\\left[f(x,y)\\right]$, which leads to the following development, respecting the properties of $H$.\n",
    "$$\n",
    "\\begin{align*}\n",
    "    g(x,y) &= H \\left[ \\int_{-\\infty}^{\\infty}\\int_{-\\infty}^{\\infty} f(\\alpha,\\beta) \\ \\delta(x-\\alpha,y-\\beta) \\ d\\alpha \\ d\\beta \\right] \\\\\n",
    "    &= \\int_{-\\infty}^{\\infty}\\int_{-\\infty}^{\\infty} H \\left[f(\\alpha,\\beta) \\ \\delta(x-\\alpha,y-\\beta)\\right] \\ d\\alpha \\ d\\beta \\\\\n",
    "    &= \\int_{-\\infty}^{\\infty}\\int_{-\\infty}^{\\infty}f(\\alpha,\\beta)\\, H \\left[ \\ \\delta(x-\\alpha,y-\\beta)\\right] \\ d\\alpha \\ d\\beta\n",
    "\\end{align*}\n",
    "$$\n",
    "The last line of the above development is made because $f(\\alpha,\\beta)$ is independant of $x$ and $y$. So the impulse response of $H$, also known as the Point Spread Function (PSF),  is given by the next equation.\n",
    "$$\n",
    "h(x,\\alpha,y,\\beta) = H\\left[ \\delta(x-\\alpha,y-\\beta)\\right]\n",
    "$$\n",
    "Knowing this, the replacement can easily be done in the latter development.\n",
    "$$\n",
    "g(x,y) = \\int_{-\\infty}^{\\infty}\\int_{-\\infty}^{\\infty}f(\\alpha,\\beta) \\ h(x,\\alpha,y,\\beta) \\ d\\alpha \\ d\\beta\n",
    "$$\n",
    "This expression means that if the response $H$ of an impulse is known then the response of any input $f(\\alpha,\\beta)$ is also known. Considering the properties of $H$, if $h$ is spatially invariant, then $h(x-a, 0, y-b, 0) = H \\left[ \\delta \\left( (x-a) - 0 , (y-b) - 0 \\right) \\right] = H\\left[ \\delta(x-\\alpha,y-\\beta)\\right] = h(x,\\alpha,y,\\beta)$, which leads to the following simplification.\n",
    "$$\n",
    "g(x,y) = \\int_{-\\infty}^{\\infty}\\int_{-\\infty}^{\\infty}f(\\alpha,\\beta) \\ h(x-\\alpha,y-\\beta) \\ d\\alpha \\ d\\beta\n",
    "$$\n",
    "Finally, in order for the model to be complete, the noise is added to the equation.\n",
    "$$\n",
    "\\boxed{g(x,y) = \\eta(x,y) + \\int_{-\\infty}^{\\infty}\\int_{-\\infty}^{\\infty}f(\\alpha,\\beta) \\ h(x-\\alpha,y-\\beta) \\ d\\alpha \\ d\\beta}\n",
    "$$"
   ]
  },
  {
   "cell_type": "markdown",
   "metadata": {},
   "source": [
    "## Restoration"
   ]
  },
  {
   "cell_type": "markdown",
   "metadata": {},
   "source": [
    "### Inverse filtering"
   ]
  },
  {
   "cell_type": "markdown",
   "metadata": {
    "tags": []
   },
   "source": [
    "In image processing, with a filter $g$, an inverse filter $h$ is one such that the sequence of applying $g$ then $h$ to a signal results in the original signal. So, if noise is negligeable and the PSF is known in the Fourier domain, so $H(u,v)$, the restoration of an original image ${f}(x,y)$, noted $\\hat{f}(x,y)$, is gotten from said PSF and the filtered image $g(x,y)$ in the Fourier domain, so $G(u,v)$.\n",
    "$$\n",
    "\\begin{align*}\n",
    "\\hat F(u,v) &= \\frac{G(u,v)}{H(u,v)}\\\\\n",
    "\\hat f(x,y) &= \\mathcal F^{-1} \\big[ \\hat F(u,v) \\big]\\\\\n",
    "            &= \\mathcal F^{-1} \\big[\\frac{G(u,v)}{H(u,v)}\\big]\n",
    "\\end{align*}\n",
    "$$\n",
    "By adding the noise in the Fourier domain to that equation, it shows that a trade off has to be made :\n",
    "- noise increases when $H$ is small,\n",
    "- restoration is limited where $H$ is big.\n",
    "$$\\hat F(u,v) = F(u,v) + \\frac{N(u,v)}{H(u,v)}$$\n",
    "\n",
    "A restoration transform $M(u,v)$ could be defined as the following equation.\n",
    "$$\n",
    "\\hat F(u,v) = (G(u,v)+N(u,v)) M(u,v)\n",
    "$$\n",
    "A classical definition of this restoration function $M(u,v)$ is given in the next system :\n",
    "$$\n",
    "M(u,v) =\n",
    "\\begin{cases}\n",
    "    \\frac{1}{H(u,v)} & \\textrm{when} & u^2+v^2 \\le w_0 ^2\\\\\n",
    "    1 & \\textrm{when} & u^2+v^2 > w_0 ^2\n",
    "\\end{cases}\n",
    "$$\n",
    "with $w_0$ being a distance from the origin in the Fourier space."
   ]
  },
  {
   "cell_type": "markdown",
   "metadata": {},
   "source": [
    "### Wiener filtering"
   ]
  },
  {
   "cell_type": "markdown",
   "metadata": {},
   "source": [
    "To avoid arbitrary settings of a parameter for the inverse transform such as $w_0$, the Wiener approach could be used, wich consists in minimizing by mean square error function. Without going into the details, the restoration transform is given by the following equation :\n",
    "$$\n",
    "M(u,v) = \\frac{H^{\\ast}(u,v)}{|H(u,v)|^2+\\frac{S_{\\nu \\nu}(u,v)}{S_{gg}(u,v)}}\n",
    "$$\n",
    "where $H^*(u,v)$ is the conjugate of $H(u,v)$, $S_{\\nu \\nu}(u,v)$ is the spectral density of the noise and $S_{gg}(u,v)$ is the spectral density of the degraded image."
   ]
  },
  {
   "cell_type": "markdown",
   "metadata": {},
   "source": [
    "### Blind deconvolution"
   ]
  },
  {
   "cell_type": "markdown",
   "metadata": {},
   "source": [
    "If the PSF in unknown, is has to be estimated. This is called blind deconvolution. It is usually achieved by making assumptions of the input in order to estimate the impulse response by analyzing the output. Blind deconvolution is not solvable without making such assumptions, which makes of blind deconvolution a real challenge.\n",
    "> For example, a blurred image can be given as input to a blind deconvolution algorithm, which could deblur the image. Essential conditions for the good working of this algorithm must not be violated as said previously. In the first set of illustrations, the recovered image is fine, very similar to original image because the essential conditions are respected. But in the second, the essential conditions are not respected, hence a recovered image far different from original image.\n",
    "> \n",
    "> ||Original image|Inputfiltered image|Output recovered image|\n",
    "> |:--|:-:|:-:|:-:|\n",
    "> |Example 1|<img src=\"\" alt=\"Example 1 original image\" title=\"Example 1 original image\" width=\"200\"/>|<img src=\"https://upload.wikimedia.org/wikipedia/commons/0/0f/Blurred_img.png\" alt=\"Example 1 filtered image\" title=\"Example 1 filtered image\" width=\"200\"/>|<img src=\"https://upload.wikimedia.org/wikipedia/commons/9/94/Recovered_img.png\" alt=\"Example 1 recovered image\" title=\"Example 1 recovered image\" width=\"200\"/>|\n",
    "> |Example 2|<img src=\"https://upload.wikimedia.org/wikipedia/commons/a/ab/Original_img.png\" alt=\"Example 2 original image\" title=\"Example 2 original image\" width=\"200\"/>|<img src=\"https://upload.wikimedia.org/wikipedia/commons/9/9b/Blur_img.png\" alt=\"Example 2 filtered image\" title=\"Example 2 filtered image\" width=\"200\"/>|<img src=\"https://upload.wikimedia.org/wikipedia/commons/5/5e/Rcvrd_img.png\" alt=\"Example 2 recovered image\" title=\"Example 2 recovered image\" width=\"200\"/>|\n",
    "\n",
    "\n",
    "|Examples of blind deconvolution|\n",
    "|:-:|\n",
    "|<img src=\"http://bigwww.epfl.ch/algorithms/deconvolutionlab/meta/splash.png\" alt=\"Examples of blind deconvolution\" title=\"Examples of blind deconvolution\" width=\"500\"/>|"
   ]
  }
 ],
 "metadata": {
  "kernelspec": {
   "display_name": "Python 3 (ipykernel)",
   "language": "python",
   "name": "python3"
  },
  "language_info": {
   "codemirror_mode": {
    "name": "ipython",
    "version": 3
   },
   "file_extension": ".py",
   "mimetype": "text/x-python",
   "name": "python",
   "nbconvert_exporter": "python",
   "pygments_lexer": "ipython3",
   "version": "3.10.9"
  },
  "toc-autonumbering": false
 },
 "nbformat": 4,
 "nbformat_minor": 4
}
