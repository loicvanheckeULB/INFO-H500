{
 "cells": [
  {
   "cell_type": "code",
   "execution_count": null,
   "metadata": {},
   "outputs": [],
   "source": [
    "%matplotlib inline\n",
    "from IPython.display import HTML,Image,SVG,YouTubeVideo"
   ]
  },
  {
   "cell_type": "markdown",
   "metadata": {},
   "source": [
    "# Typical image processing pipelines"
   ]
  },
  {
   "cell_type": "markdown",
   "metadata": {},
   "source": [
    "The classical image processing chain is illstrated below. Four major steps can be identified :\n",
    "\n",
    "|Illustration of a classical image processing chain|\n",
    "|:-:|\n",
    "|<img src=\"../data/ip_chain.png\" alt=\"Illustration of a classical image processing chain\" title=\"Illustration of a classical image processing chain\" width=\"200\"/>|\n",
    "\n",
    "1. **image acquisition**, to convert photons into a matrix of numbers,\n",
    "2. **pre-processing**, to correct image acquisition default or enhance image quality in order to facilitate...\n",
    "3. **segmentation**, to split the image into object of interest and background,\n",
    "4. **feature extraction**, to describe shape, color, texture, ... of said objects.\n",
    "\n",
    "Of course, other approaches exist, depending on the image processing task and its difficulty."
   ]
  },
  {
   "cell_type": "markdown",
   "metadata": {},
   "source": [
    "## Image segmentation"
   ]
  },
  {
   "cell_type": "markdown",
   "metadata": {},
   "source": [
    "Image segmentation is an important step in the understanding of an image, it aims to divide an image into objects, which are connected pixels that share some semantic content. It is an ill-posed problem : the image is often the result of a projection from 3D to 2D, meaning that an object well identified in the 3D space could be impossible to identify in the 2D space without ambiguity. The segmentation results is a disjoint set of regions $R_i$, here called objects and background.\n",
    "$$\n",
    "\\begin{cases}\n",
    "    \\displaystyle\\bigcup_{i=1}^{N} R_i = I \\\\\n",
    "    R_i \\cap R_j = \\phi \\ , \\ 1 \\leq i \\ , \\ j \\leq N \\ , \\ i\\neq j\n",
    "\\end{cases}\n",
    "$$\n",
    "Since segmentation tackles the identification of semantic content, it often requires both low level high-level approaches.\n",
    "\n",
    "The low-level approach or bottom-up approach considers the segmentation as an aggregation of pixels based on some common features.\n",
    "> For example, pixles can share a common intensity, a common color, texture, or be \"contained\" inside some \"border\".\n",
    "\n",
    "The high-level approach or top-down approach tries to identify object starting from the complete image, knowing a priori what to look for.\n",
    "> For example, detecting the position of a face inside the image to help camera auto-focus.\n",
    "\n",
    "Human vision is a combination of both mechanisms :\n",
    "- the retina sends the signal from the sensor to the brain, grouping neighbours cones and rods to detect patterns such as borders, isolated points, ...\n",
    "- at the same time the brain suggest objects that could be seen and that helps the detection. \n",
    "\n",
    "The segmentation can be a very complex problem, and many methods have been proposed. Thee following sections explains some of the more common ones. This list is far from being exhaustive, this topic remains an open issue. The following approaches will be illustrated :\n",
    "- the histogram based segmentation,\n",
    "- the border based segmentation,\n",
    "- the region based segmentation,\n",
    "- one model based object detection,\n",
    "- one model based object segmentation."
   ]
  },
  {
   "cell_type": "markdown",
   "metadata": {},
   "source": [
    "# Other approaches"
   ]
  },
  {
   "cell_type": "markdown",
   "metadata": {},
   "source": [
    "Sometime the object of interest is more easy to detect than to segment, the image processing chain becomes the next one. This alternative chain is illustrated below. In this case, the segmentation phase is replaced by a detection phase.\n",
    "|Alternative image processing chain|\n",
    "|:-:|\n",
    "|<img src=\"../data/ip_chain2.png\" alt=\"Alternative image processing chain\" title=\"Alternative image processing chain\" width=\"300\"/>|"
   ]
  }
 ],
 "metadata": {
  "kernelspec": {
   "display_name": "Python 3 (ipykernel)",
   "language": "python",
   "name": "python3"
  },
  "language_info": {
   "codemirror_mode": {
    "name": "ipython",
    "version": 3
   },
   "file_extension": ".py",
   "mimetype": "text/x-python",
   "name": "python",
   "nbconvert_exporter": "python",
   "pygments_lexer": "ipython3",
   "version": "3.10.9"
  }
 },
 "nbformat": 4,
 "nbformat_minor": 4
}
