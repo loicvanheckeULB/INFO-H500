{
 "cells": [
  {
   "cell_type": "code",
   "execution_count": 1,
   "metadata": {},
   "outputs": [],
   "source": [
    "%matplotlib inline\n",
    "from IPython.display import HTML,Image,SVG,YouTubeVideo"
   ]
  },
  {
   "cell_type": "markdown",
   "metadata": {},
   "source": [
    "# Region-based segmentation"
   ]
  },
  {
   "cell_type": "markdown",
   "metadata": {},
   "source": [
    "As seen in the former section, borders-based segmentation may leave some contours unclosed, which is of course an issue. Another appraoch to paliate this problem is to look for regions, hence region-based segmentation. Several methods are explained in this section."
   ]
  },
  {
   "cell_type": "markdown",
   "metadata": {},
   "source": [
    "## Region growing"
   ]
  },
  {
   "cell_type": "markdown",
   "metadata": {},
   "source": [
    "Region growing is a simple region-based image segmentation method. It involves the selection of initial seed points. This approach analyses neighboring pixels of the initial seed points and determines whether or not the pixel neighbours should be added to the region. The process is iterated on, in the same manner as general data clustering algorithms.\n",
    "\n",
    "The seed point selection is based on user criterion : pixels that are in a certain grayscale range, pixels that are evenly spaced on a grid, ... The initial region begins as the exact location of these seeds. The regions are then grown from these seed points to adjacent points depending on a region membership criterion.\n",
    "\n",
    "Since the regions are grown on the basis of the criterion, the image information itself is important. For example, if the criterion is a pixel intensity threshold value, the histogram of the image could be useful to determine a suitable threshold value for the region membership criterion. The 4-neighbours strucuring element could be used to grow from the seed points. An alternative for pixels adjacent relationship is the 8-neighbours strucuring element. Pixels adjacent to the seed points are then examined and classified into the seed points if they have the same intensity value."
   ]
  },
  {
   "cell_type": "markdown",
   "metadata": {},
   "source": [
    "## Split and merge"
   ]
  },
  {
   "cell_type": "markdown",
   "metadata": {},
   "source": [
    "In a split and merge segmentation, the image is successively divided into quadrants, based on a homogeneity criterion, and similar regions are merged to create the segmented result. The technique incorporates a quadtree data structure : there is a parent-child node relationship and each internal node has exactly four children. The total region is a parent, and each of the four splits is a child.\n",
    "\n",
    "|Illustration of the split and merge concept|Quadtree data structure|\n",
    "|:-:|:-:|\n",
    "|<img src=\"../data/quadtree.png\" alt=\"Illustration of the split and merge concept\" title=\"Illustration of the split and merge concept\" width=\"300\"/>|<img src=\"https://upload.wikimedia.org/wikipedia/commons/e/e7/Tree_structure.png\" alt=\"Quadtree data structure\" title=\"Quadtree data structure\" width=\"300\"/>|\n",
    "\n",
    "The algoritm is given by the following steps.\n",
    "1. Definition of the criterion for homogeneity.\n",
    "2. Split of the image into equally-sized regions.\n",
    "3. Computation of the homogeneity for each region. If the region is homogeneous, then merge it with neighbours.\n",
    "4. Repetition of 1 $\\rightarrow$ 3 until all regions pass the homogeneity test."
   ]
  },
  {
   "cell_type": "markdown",
   "metadata": {},
   "source": [
    "### Split phase"
   ]
  },
  {
   "cell_type": "markdown",
   "metadata": {},
   "source": [
    "There are several ways to define homogeneity. Some of them are reported in the list below.\n",
    "- Uniformity : the region is homogeneous if its gray scale levels are constant or within a given threshold.\n",
    "- Local mean vs global mean : if the mean of a region is greater than the mean of the global image, then the region is homogeneous.\n",
    "- Variance - the gray level variance is defined as $\\sigma ^{2} = \\dfrac{1}{N - 1} \\displaystyle\\sum _{\\left( r , c \\right) \\in R} \\left[ I \\left ( r , c \\right)- \\bar{I} \\right]^{2}$ where $r$ and $c$ are respectively the row and the column, $N$ is the number of pixels in the region and $\\bar{I} = \\dfrac{1}{N} \\displaystyle\\sum _{\\left( r , c \\right) \\in R} I \\left ( r , c \\right)$.\n",
    "\n",
    "So the first step is to define the homogeneity function and then the second step is to test this homogeneity on each region during each iteration :\n",
    "- if the region is homogeneous, break the iteration and return the region,\n",
    "- else, split the image into 4 and apply the test on each sub-region."
   ]
  },
  {
   "cell_type": "markdown",
   "metadata": {},
   "source": [
    "### Merge phase"
   ]
  },
  {
   "cell_type": "markdown",
   "metadata": {},
   "source": [
    "During the merge phase, for each adjacent sub-region, if the two regions satisfies the homogeneity criterion, merge the regions.\n",
    "|Example of a split and merge segmentation process|\n",
    "|:-:|\n",
    "|<img src=\"../data/split_example.png\" alt=\"Example of a split and merge segmentation process\" title=\"Example of a split and merge segmentation process\" width=\"500\"/>|"
   ]
  },
  {
   "cell_type": "markdown",
   "metadata": {},
   "source": [
    "## Watershed transform"
   ]
  },
  {
   "cell_type": "markdown",
   "metadata": {},
   "source": [
    "A watershed transform is defined on a grayscale image. The transformation treats the image like a topographic map, with the brightness of each point representing the height, and finds the lines that run along the tops of ridges. There are different technical definitions of a watershed. In graphs, watershed lines may be defined on the nodes, on the edges, or hybrid lines on both nodes and edges. Watersheds may also be defined in the continuous domain. There are also many different algorithms to compute watersheds."
   ]
  }
 ],
 "metadata": {
  "kernelspec": {
   "display_name": "Python 3 (ipykernel)",
   "language": "python",
   "name": "python3"
  },
  "language_info": {
   "codemirror_mode": {
    "name": "ipython",
    "version": 3
   },
   "file_extension": ".py",
   "mimetype": "text/x-python",
   "name": "python",
   "nbconvert_exporter": "python",
   "pygments_lexer": "ipython3",
   "version": "3.10.9"
  }
 },
 "nbformat": 4,
 "nbformat_minor": 4
}
