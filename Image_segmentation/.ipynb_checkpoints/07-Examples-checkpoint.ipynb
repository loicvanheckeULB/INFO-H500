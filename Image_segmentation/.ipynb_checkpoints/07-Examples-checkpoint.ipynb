{
 "cells": [
  {
   "cell_type": "code",
   "execution_count": null,
   "metadata": {},
   "outputs": [],
   "source": [
    "%matplotlib inline\n",
    "from IPython.display import HTML,Image,SVG,YouTubeVideo\n"
   ]
  },
  {
   "cell_type": "code",
   "execution_count": null,
   "metadata": {},
   "outputs": [],
   "source": [
    "from skimage import data\n",
    "import numpy as np\n",
    "from skimage.morphology import disk\n",
    "import skimage.filters.rank as skr\n",
    "from skimage.measure import label\n",
    "from skimage.morphology import watershed\n",
    "from skimage.io import imread\n",
    "from scipy import ndimage as ndi\n",
    "import matplotlib.pyplot as plt\n",
    "from skimage.segmentation import mark_boundaries"
   ]
  },
  {
   "cell_type": "code",
   "execution_count": null,
   "metadata": {},
   "outputs": [],
   "source": [
    "# segment the coins\n",
    "im = data.coins()\n",
    "plt.imshow(im,cmap=plt.cm.gray)\n",
    "plt.colorbar();"
   ]
  },
  {
   "cell_type": "code",
   "execution_count": null,
   "metadata": {},
   "outputs": [],
   "source": [
    "# detect the eyes / nose\n",
    "im = data.chelsea()\n",
    "plt.imshow(im);\n"
   ]
  },
  {
   "cell_type": "code",
   "execution_count": null,
   "metadata": {},
   "outputs": [],
   "source": [
    "# counting the galaxies\n",
    "im = data.hubble_deep_field()\n",
    "plt.imshow(im);"
   ]
  },
  {
   "cell_type": "code",
   "execution_count": null,
   "metadata": {},
   "outputs": [],
   "source": [
    "im = data.page()\n",
    "\n",
    "bg = skr.median(im, disk(10))\n",
    "\n",
    "res = (1.*im/bg) < .8\n",
    "\n",
    "plt.imshow(im,cmap=plt.cm.gray)\n",
    "plt.colorbar();\n",
    "plt.figure()\n",
    "plt.imshow(bg,cmap=plt.cm.gray);\n",
    "plt.colorbar()\n",
    "plt.figure()\n",
    "plt.imshow(res.astype(np.uint8),cmap=plt.cm.gray);\n",
    "plt.colorbar();\n"
   ]
  },
  {
   "cell_type": "code",
   "execution_count": null,
   "metadata": {},
   "outputs": [],
   "source": [
    "# segment the cells\n",
    "im = imread('../data/dh_phase.png')\n",
    "th = im>150\n",
    "th1 = im>100\n",
    "\n",
    "plt.imshow(im,cmap=plt.cm.gray)\n",
    "plt.colorbar();\n",
    "plt.figure()\n",
    "plt.imshow(1.*th+th1,cmap=plt.cm.gray)\n",
    "plt.colorbar();\n"
   ]
  },
  {
   "cell_type": "code",
   "execution_count": null,
   "metadata": {},
   "outputs": [],
   "source": [
    "from skimage.feature import canny\n",
    "\n",
    "\n",
    "ca = canny(im)\n",
    "\n",
    "plt.figure(figsize=[10,10])\n",
    "plt.imshow(ca,cmap=plt.cm.gray);"
   ]
  },
  {
   "cell_type": "code",
   "execution_count": null,
   "metadata": {},
   "outputs": [],
   "source": [
    "from skimage.morphology import watershed\n",
    "from skimage.segmentation import mark_boundaries\n",
    "lab,n_lab = label(th,return_num=True)\n",
    "bg = th1==0\n",
    "lab[bg] = n_lab+1\n",
    "\n",
    "#med = skr.median(im,disk(5))\n",
    "#gr = skr.gradient(med,disk(3))\n",
    "\n",
    "ws = watershed(255-im,lab)\n",
    "plt.imshow(mark_boundaries(im,ws))\n"
   ]
  },
  {
   "cell_type": "code",
   "execution_count": null,
   "metadata": {},
   "outputs": [],
   "source": [
    "im = imread('../data/exp0001.jpg')\n",
    "plt.figure(figsize=[20,20])\n",
    "plt.imshow(im,cmap=plt.cm.gray)\n",
    "plt.colorbar();"
   ]
  },
  {
   "cell_type": "code",
   "execution_count": null,
   "metadata": {},
   "outputs": [],
   "source": [
    "# count red and yellow flowers\n",
    "im = imread('../data/flowers.jpg')\n",
    "plt.imshow(im)\n",
    "plt.colorbar();"
   ]
  },
  {
   "cell_type": "code",
   "execution_count": null,
   "metadata": {},
   "outputs": [],
   "source": [
    "# find the fiber orientation\n",
    "im = imread('../data/image4.png')\n",
    "plt.imshow(im,cmap=plt.cm.gray)\n",
    "plt.colorbar();"
   ]
  },
  {
   "cell_type": "code",
   "execution_count": null,
   "metadata": {},
   "outputs": [],
   "source": [
    "from IPython.display import YouTubeVideo\n",
    "YouTubeVideo('PUcz11MLxUk', start=0, autoplay=1, theme=\"light\", color=\"blue\",)"
   ]
  },
  {
   "cell_type": "code",
   "execution_count": null,
   "metadata": {},
   "outputs": [],
   "source": [
    "# detect stroma\n",
    "im = imread('../data/Rp042826d.jpg')\n",
    "plt.imshow(im,cmap=plt.cm.gray)\n",
    "plt.colorbar();"
   ]
  },
  {
   "cell_type": "code",
   "execution_count": null,
   "metadata": {},
   "outputs": [],
   "source": [
    "# segment the flowers\n",
    "im = imread('../data/KaneFlowers.jpg')\n",
    "plt.imshow(im,cmap=plt.cm.gray)\n",
    "plt.colorbar();"
   ]
  },
  {
   "cell_type": "code",
   "execution_count": null,
   "metadata": {},
   "outputs": [],
   "source": [
    "from skimage.morphology import watershed\n",
    "from skimage.segmentation import mark_boundaries\n",
    "\n",
    "gr = skr.gradient(im,disk(3))\n",
    "\n",
    "local_min = im <= skr.minimum(im,disk(5))\n",
    "\n",
    "lab = label(local_min)\n",
    "\n",
    "#med = skr.median(im,disk(5))\n",
    "\n",
    "ws = watershed(gr,lab)\n",
    "\n",
    "plt.figure(figsize=[10,10])\n",
    "plt.imshow(mark_boundaries(im,ws))\n",
    "\n",
    "#plt.imshow(local_min)\n"
   ]
  },
  {
   "cell_type": "code",
   "execution_count": null,
   "metadata": {},
   "outputs": [],
   "source": [
    "rgb = imread('../data/4colors.JPG')\n",
    "\n",
    "plt.figure(figsize=[20,20])\n",
    "plt.imshow(rgb)\n",
    "plt.colorbar();"
   ]
  },
  {
   "cell_type": "code",
   "execution_count": null,
   "metadata": {},
   "outputs": [],
   "source": [
    "r = skr.median(rgb[:,:,0],disk(1))\n",
    "plt.imshow(r,cmap=plt.cm.gray)"
   ]
  },
  {
   "cell_type": "code",
   "execution_count": null,
   "metadata": {},
   "outputs": [],
   "source": [
    "s = rgb.sum(axis=2)\n",
    "th = s > 100\n",
    "\n",
    "#post-processing\n",
    "pth = skr.minimum(th.astype(np.uint8),disk(1))\n",
    "\n",
    "plt.figure(figsize=[20,20])\n",
    "plt.imshow(pth,cmap=plt.cm.gray)\n",
    "plt.colorbar()"
   ]
  },
  {
   "cell_type": "code",
   "execution_count": null,
   "metadata": {},
   "outputs": [],
   "source": [
    "lab = label(pth)\n",
    "\n",
    "lut = np.arange(0,np.max(lab)+1)\n",
    "\n",
    "plt.imshow(lab)\n",
    "plt.colorbar()\n",
    "\n",
    "mask = lab == 20\n",
    "plt.imshow(mask)"
   ]
  },
  {
   "cell_type": "code",
   "execution_count": null,
   "metadata": {},
   "outputs": [],
   "source": [
    "from random import shuffle\n",
    "shuffle(lut)"
   ]
  },
  {
   "cell_type": "code",
   "execution_count": null,
   "metadata": {},
   "outputs": [],
   "source": [
    "shuffle(lut)\n",
    "plt.imshow(lut[lab])\n",
    "plt.colorbar()"
   ]
  },
  {
   "cell_type": "code",
   "execution_count": null,
   "metadata": {},
   "outputs": [],
   "source": []
  },
  {
   "cell_type": "code",
   "execution_count": null,
   "metadata": {},
   "outputs": [],
   "source": [
    "# segment the cell\n",
    "im = imread('../data/exp0001crop.jpg')\n",
    "plt.imshow(im,cmap=plt.cm.gray)\n",
    "plt.colorbar();"
   ]
  },
  {
   "cell_type": "code",
   "execution_count": null,
   "metadata": {},
   "outputs": [],
   "source": [
    "m = skr.median(im,disk(5))\n",
    "plt.imshow(m,cmap=plt.cm.gray)\n",
    "plt.colorbar()"
   ]
  },
  {
   "cell_type": "code",
   "execution_count": null,
   "metadata": {},
   "outputs": [],
   "source": [
    "th1 = m < 90\n",
    "\n",
    "th2 = np.bitwise_and(110 > m,m < 130)\n",
    "\n",
    "plt.imshow(th2)"
   ]
  },
  {
   "cell_type": "code",
   "execution_count": null,
   "metadata": {},
   "outputs": [],
   "source": [
    "markers = label(th2)\n",
    "plt.imshow(markers)\n",
    "plt.colorbar()"
   ]
  },
  {
   "cell_type": "code",
   "execution_count": null,
   "metadata": {},
   "outputs": [],
   "source": [
    "markers[markers==3] = 2\n",
    "ws = watershed(im,markers)"
   ]
  },
  {
   "cell_type": "code",
   "execution_count": null,
   "metadata": {},
   "outputs": [],
   "source": [
    "plt.imshow(ws)\n",
    "plt.imshow(mark_boundaries(im,ws))"
   ]
  },
  {
   "cell_type": "code",
   "execution_count": null,
   "metadata": {},
   "outputs": [],
   "source": [
    "# segment the cell\n",
    "im = imread('../data/brain.jpg')[:,:,0]\n",
    "plt.figure(figsize=(10,10))\n",
    "plt.imshow(im,cmap=plt.cm.gray)\n",
    "plt.colorbar();"
   ]
  },
  {
   "cell_type": "code",
   "execution_count": null,
   "metadata": {},
   "outputs": [],
   "source": [
    "plt.hist(im.flatten(),255);"
   ]
  },
  {
   "cell_type": "code",
   "execution_count": null,
   "metadata": {},
   "outputs": [],
   "source": [
    "from skimage.filters import threshold_otsu\n",
    "\n",
    "t_otsu = threshold_otsu(im)\n",
    "t_otsu"
   ]
  },
  {
   "cell_type": "code",
   "execution_count": null,
   "metadata": {},
   "outputs": [],
   "source": [
    "th = im > t_otsu\n",
    "plt.figure(figsize=(10,10))\n",
    "plt.imshow(th)"
   ]
  },
  {
   "cell_type": "code",
   "execution_count": null,
   "metadata": {},
   "outputs": [],
   "source": [
    "lab = label(th,connectivity=1)\n",
    "plt.imshow(lab)"
   ]
  },
  {
   "cell_type": "code",
   "execution_count": null,
   "metadata": {},
   "outputs": [],
   "source": [
    "from skimage.measure import regionprops"
   ]
  },
  {
   "cell_type": "code",
   "execution_count": null,
   "metadata": {},
   "outputs": [],
   "source": [
    "props = regionprops(lab)\n",
    "\n",
    "brain = (lab==7).astype(np.uint8)\n",
    "\n",
    "pp = skr.maximum(brain,disk(3))\n",
    "pp = skr.minimum(pp,disk(3))\n",
    "\n",
    "plt.imshow(pp)"
   ]
  },
  {
   "cell_type": "code",
   "execution_count": null,
   "metadata": {},
   "outputs": [],
   "source": [
    "for p in props:\n",
    "    print(p.area, p.label)"
   ]
  },
  {
   "cell_type": "code",
   "execution_count": null,
   "metadata": {},
   "outputs": [],
   "source": []
  },
  {
   "cell_type": "code",
   "execution_count": null,
   "metadata": {},
   "outputs": [],
   "source": []
  },
  {
   "cell_type": "code",
   "execution_count": null,
   "metadata": {},
   "outputs": [],
   "source": []
  }
 ],
 "metadata": {
  "kernelspec": {
   "display_name": "Python 3",
   "language": "python",
   "name": "python3"
  },
  "language_info": {
   "codemirror_mode": {
    "name": "ipython",
    "version": 3
   },
   "file_extension": ".py",
   "mimetype": "text/x-python",
   "name": "python",
   "nbconvert_exporter": "python",
   "pygments_lexer": "ipython3",
   "version": "3.7.7"
  }
 },
 "nbformat": 4,
 "nbformat_minor": 1
}
