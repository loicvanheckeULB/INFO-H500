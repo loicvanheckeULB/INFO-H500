{
 "cells": [
  {
   "cell_type": "code",
   "execution_count": 1,
   "metadata": {},
   "outputs": [],
   "source": [
    "%matplotlib inline  \n",
    "from IPython.display import HTML,Image,SVG,YouTubeVideo"
   ]
  },
  {
   "cell_type": "markdown",
   "metadata": {},
   "source": [
    "# Model based segmentation"
   ]
  },
  {
   "cell_type": "markdown",
   "metadata": {},
   "source": [
    "Until now, image segmentation has been considered as a bottom-up process, where connected pixels are grouped together based on some sort of rule based on gray levels, borders, ... In some cases, the objects that are looked for are a priori known. This process is thus called top-down. An example explained later on is the use of the Hough transform when looking for lines and circles."
   ]
  },
  {
   "cell_type": "markdown",
   "metadata": {},
   "source": [
    "## Livewire"
   ]
  },
  {
   "cell_type": "markdown",
   "metadata": {},
   "source": [
    "The livewire algorithm is an interactive segmentation method that helps the user to delineate object borders in an image. The user select some points located near the object boundary and the algorithm connects them using the lowest cost path algorithm, by Edsger W. Dijkstra, which is explained below. The image is first convolved with a Sobel filter to extract edges. Each pixel of the resulting image has a 4-neighbours structuring element around it. The edge costs are defined based on a cost function build around this neighbourhood. Later on some extension work has been made on livewire segmentation tool, which is known as Intelligent Scissors.\n",
    "|Example of the application of a live-wire segmentation process|Example of the application of the Intelligent Scissors|\n",
    "|:-:|:-:|\n",
    "|<img src=\"../data/lifewire.png\" alt=\"Example of the application of a live-wire segmentation process\" title=\"Example of the application of a live-wire segmentation process\" width=\"500\"/>|<img src=\"../data/lw1.png\" alt=\"Example of the application of the Intelligent Scissors\" title=\"Example of the application of the Intelligent Scissors\" width=\"300\"/>|"
   ]
  },
  {
   "cell_type": "markdown",
   "metadata": {
    "tags": []
   },
   "source": [
    "### Principle"
   ]
  },
  {
   "cell_type": "markdown",
   "metadata": {},
   "source": [
    "1. The user places some seed points on the edges of the object.\n",
    "2. The program locally computes the best path between these points, according to Dijkstra's shortest path algorithm.\n",
    "3. The computation of step 2 should be fast enough to propose an interactive optimal path.\n",
    "\n",
    "Move from one pixel to one of its neighbours\n",
    "\n",
    "* graph = image latice\n",
    "* search space = every pixel of the image\n",
    "* Cost\n",
    "* local (related to the edge detection etc. )\n",
    "* euclidian distance from previous position\n",
    "\n",
    "Local costs between points p and q\n",
    "\n",
    "* Laplacian zero crossing, fZ,\n",
    "* gradient magnitude,fG,\n",
    "* and gradient direction, fD\n",
    "\n",
    "$l(\\bf p,bf q) = \\omega_G . f_G(\\bf q)+\\omega_Z . f_Z(\\bf q)+\\omega_D . f_G(\\bf p,\\bf q)$\n",
    "\n",
    "gradient magnitude, $f_G$: \n",
    "\n",
    "$f_G = 1 - \\frac{G}{max(G)}$\n",
    "\n",
    "Laplacian zero crossing, $f_Z$,\n",
    "\n",
    "1 if sign change in the neighbourhood \n",
    "\n",
    "a ‘good’ pixel to place a border\n",
    "\n",
    "gradient direction, $f_D$\n",
    "\n",
    "$f_D(\\bf p,\\bf q) = \\frac{2}{3\\pi}\\{[\\cos(d_p(\\bf p,\\bf q))]^{-1}+[\\cos(d_p(\\bf p,\\bf q))]^{-1}\\}$\n",
    "\n",
    "$\\bf D(p)$ be the unit vector which is normal to the gradient direction at point\n",
    "\n",
    "\\bf D(p) = (G_y(\\bf p),-G_x(\\bf p))\n",
    "\n",
    "where\n",
    "\n",
    "are vector dot product and\n",
    "\n",
    "$ d_p(\\bf p,\\bf q) = \\bf D(\\bf p) . L(\\bf p,\\bf q) $\n",
    "\n",
    "$ d_a(\\bf p,\\bf q) = L(\\bf p,\\bf q) . \\bf D(\\bf q) $\n",
    "\n",
    "$L(\\bf p, \\bf q)=\\left \\{\\begin{array}{ll}\n",
    "\\bf q - \\bf p,\\quad \\text{if} \\quad  D(\\bf p).(\\bf q-\\bf p) \\ge 0\\\\\n",
    "\\bf p - \\bf q,\\quad \\text{if} \\quad  D(\\bf p).(\\bf q-\\bf p) < 0\\\\\n",
    "\\end{array}\n",
    "\\right.$\n",
    "\n",
    "The direction feature cost is low when the gradient direction of the two pixels are similar to each other and the link between them.\n",
    "\n",
    "pros\n",
    "\n",
    "* general, few initialization\n",
    "* real-time\n",
    "* direct control\n",
    "\n",
    "cons\n",
    "\n",
    "* resolution = pixel (> subpixel)\n",
    "* contour depend on weight\n",
    "* slow for 3D and high resolution\n"
   ]
  },
  {
   "cell_type": "markdown",
   "metadata": {},
   "source": [
    "### Dijkstra shortest path algorithm"
   ]
  },
  {
   "cell_type": "code",
   "execution_count": 4,
   "metadata": {},
   "outputs": [
    {
     "data": {
      "image/jpeg": "[encoded data removed]",
      "text/html": [
       "\n",
       "        <iframe\n",
       "            width=\"400\"\n",
       "            height=\"300\"\n",
       "            src=\"https://www.youtube.com/embed/8Ls1RqHCOPw\"\n",
       "            frameborder=\"0\"\n",
       "            allowfullscreen\n",
       "            \n",
       "        ></iframe>\n",
       "        "
      ],
      "text/plain": [
       "<IPython.lib.display.YouTubeVideo at 0x1b73aa70850>"
      ]
     },
     "execution_count": 4,
     "metadata": {},
     "output_type": "execute_result"
    }
   ],
   "source": [
    "from IPython.lib.display import YouTubeVideo\n",
    "YouTubeVideo('8Ls1RqHCOPw')"
   ]
  }
 ],
 "metadata": {
  "kernelspec": {
   "display_name": "Python 3 (ipykernel)",
   "language": "python",
   "name": "python3"
  },
  "language_info": {
   "codemirror_mode": {
    "name": "ipython",
    "version": 3
   },
   "file_extension": ".py",
   "mimetype": "text/x-python",
   "name": "python",
   "nbconvert_exporter": "python",
   "pygments_lexer": "ipython3",
   "version": "3.10.9"
  }
 },
 "nbformat": 4,
 "nbformat_minor": 4
}
