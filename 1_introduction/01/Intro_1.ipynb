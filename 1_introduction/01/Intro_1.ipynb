{
 "cells": [
  {
   "cell_type": "markdown",
   "id": "01a96c00-b43a-4a29-b729-cbb0aaf8daee",
   "metadata": {
    "tags": []
   },
   "source": [
    "# Vision\n"
   ]
  },
  {
   "cell_type": "markdown",
   "id": "ca219231-944a-4eeb-a6b2-2e7faecaf637",
   "metadata": {},
   "source": [
    "- Evolution has produced a **large variety of light sensors among living organisms**. From the simplest, where sensitive cells are directly on the skin surface, to more complex ones where the light sensing cells are embedded into a *camera obscura*-like organ.\n",
    "<center>\n",
    "    <img src=\"output_3_0.png\" alt=\"Trulli\" title = \"\" width=\"300\" class=\"center\"/>\n",
    "    <figcaption>Fig.1 - Trulli, Puglia, Italy.</figcaption>\n",
    "</center>\n",
    "\n",
    "- The eye can either be **compounded, like an insect eye**, or **non-compounded, like a simple human eye**, where a single lens-system focus light on all the sensible cells.\n",
    "    \n",
    "![png](output_6_0.png)\n",
    "\n",
    "- The figure above illustrates how to reconstruct the 3D shape of an aye of an ant.\n",
    "    - a polymer mold is taken from the ant and acquired using a brightfield microscope,\n",
    "    - several Z focus position are used,\n",
    "    - by analysing the position of in focus point of the image, a 3D representation can be build (see illustration below).\n",
    "\n",
    "![png](output_8_0.png)\n",
    "\n",
    "- Evolution has followed two different path to add vision capabilities : for example the mammalian eye has a blind spot due to the reversed optical nerve implantation. Vertebrates and octopuses developed the camera eye independently :\n",
    "    - For the vertebrate eye (left figure) :\n",
    "        - (1) is the retina,\n",
    "        - (2) are the nerve fibers,\n",
    "        - (3) is the optic nerve,\n",
    "        - (4) is the blind spot, which is notably absent from the octopus eye (right figure) : the nerve fibers pass in front of the retina.\n",
    "    - FOr the octopus eye (right figure) :\n",
    "        - (1) are the nerve fibers,\n",
    "        - (2) is the retina,\n",
    "        - (3) is the optic nerve.\n",
    "\n",
    "![png](output_10_0.png)"
   ]
  },
  {
   "cell_type": "markdown",
   "id": "48daa319-7163-48f4-873e-67a527accc8e",
   "metadata": {
    "tags": []
   },
   "source": [
    "# Human vision"
   ]
  },
  {
   "cell_type": "markdown",
   "id": "909aa9f0-ab73-4f0b-b5e8-2a336dd3986d",
   "metadata": {},
   "source": [
    "- The human vision relies on two principal organs : the eyes and the brain. \n",
    "\n",
    "![png](output_14_0.png)"
   ]
  },
  {
   "cell_type": "markdown",
   "id": "419b8b36-6ec0-4936-b01d-8743320062f4",
   "metadata": {
    "tags": []
   },
   "source": [
    "## Sensitivity"
   ]
  },
  {
   "cell_type": "markdown",
   "id": "13c78f7a-9d4f-417a-a13b-d2310dd24ec2",
   "metadata": {
    "jp-MarkdownHeadingCollapsed": true,
    "tags": []
   },
   "source": [
    "- The sensitivity of the eye is due to two types of cells : rods and cones.\n",
    "    - Rods :\n",
    "        - higly sensitive to brightness\n",
    "        - spectrum sensitivity roughly situated in the green part of the visible spectrum\n",
    "        - $\\approx 100 \\cdot 10^{6}$ spread all over the retina excepted in the fovea and of course in the blind spot.\n",
    "    - Cones :\n",
    "        - responsible for the color discrimination\n",
    "        - $\\approx 10 \\cdot 10^{6}$ with highest concentration inside of the $5^{\\circ}$ angle of the fovea (most of them inside the $1^{\\circ}$ angle)\n",
    "- The eye does not gives a full resolution image on the complete field of view at once : to have a complete picture (litteraly), the brain has to merge image information taken by the most spatially resolved part of the eye, the fovea, while the eye is scanning the scene. Rods can be grouped in bundle to the optical nerve, meaning that the spatial localisation of the information is lower than the one given by cones having there own nervous termination.\n",
    "\n",
    "![png](output_18_0.png)\n",
    "- The eye has also a system for light limitation : the iris.\n",
    "    - Similarilly to a camera, the role of the iris is to modulate the quantity of light entering the eye, to increase its dynamic range (from very low light to complete sun exposed scene).\n",
    "    - The diameter of the iris is modulated from $2 \\textrm{mm}$ to $8 \\textrm{mm}$ giving a global dynamic up to $10^{10}$.\n",
    "- The retina has also a limited dynamic range, which is the total intensity variation that it is capable of discriminate.\n",
    "    - The actual dynamic range of the retina is $< 200$.\n",
    "    - This explains some technological choices that have been made for image storage (*cf. infra*).\n",
    "    \n",
    "    ![png](output_22_0.png)\n",
    "    - The illustration above shows the same image with different dynamic ranges :\n",
    "        - with 256 levels (left figure), it is almost impossible to discriminate very close graylevels from each other ;\n",
    "        - with 32 levels (right figure), false contours appear in large continuous regions (e.g. the sky).\n",
    "    - However, thanks to the agile displacement of the eye and the reconstructive abilities of the brain, a human is able to look at scenes with a very high dynamic range, with much more than 255 levels (see illustration below) !\n",
    "\n",
    "![jpeg](output_24_0.jpg)\n",
    "- The anatomy of the retina is composed of several layers.\n",
    "- A typical nervous signal speed is $\\approx 100 \\textrm{m/s}$, and its commutation time is about $25 \\textrm{Hz}$.\n",
    "    - Our vision is able to process information really fast.\n",
    "    - The natural vision processing power is hidden in the high parallelism achieved by the complete chain of 100.000.000.000 interconnected neurons.\n",
    "\n",
    "![png](output_27_0.png)\n",
    "- The light acquisition is done by the eyes only, but the processing is shared by both the eyes and the brain.\n",
    "    - Some low-level image processing is done at the retina level.\n",
    "    - The rest is left to the brain (merge of information, ...)\n",
    "- The phenomenon of lateral inhibition occurs when a stimulus is applied to neighbour neurons.\n",
    "    - Each neuron will negatively influence its neighboors relatively to its own signal intensity.\n",
    "    - The resulting pattern has thus a hight contrast.\n",
    "\n",
    "![png](output_30_0.png)"
   ]
  },
  {
   "cell_type": "markdown",
   "id": "682ef021-cec6-4916-b729-cf1a2a4d44ec",
   "metadata": {
    "tags": []
   },
   "source": [
    "## Color perception"
   ]
  },
  {
   "cell_type": "markdown",
   "id": "0ed1b4dc-ea21-40a6-9c73-728f03d2cada",
   "metadata": {},
   "source": [
    "- Color perception is enabled by the presence of 3 types of cones in the retina. The sensitivity spectrum of these cones is spread over the visible spectrum (see illustration below).\n",
    "\n",
    "![png](output_33_0.png)\n",
    "- The spectrum of acquisition of the human eye is limited on one hand at the ultraviolet light, and on the other by the near infrared light.\n",
    "    - Image analysis is not limited to this range, depending of the image sensor used (*cf. infra*).\n",
    "    - Other species developped a vision in a shifted spectrum (e.g. bees can see some UV).\n",
    "\n",
    "![jpeg](output_36_0.jpg)"
   ]
  },
  {
   "cell_type": "markdown",
   "id": "d1abc702-8801-4de4-ad9a-cf0317957771",
   "metadata": {
    "tags": []
   },
   "source": [
    "## Persistence"
   ]
  },
  {
   "cell_type": "markdown",
   "id": "0ee59001-83c7-4c10-9f30-3c2eab2b5572",
   "metadata": {},
   "source": [
    "[![Ring of fire](https://s2.dmcdn.net/v/3DOey1VtGazzm7WhQ/x720)](https://www.youtube.com/embed/Md78sOI1-r8 \"Ring Of Fire\")\n",
    "\n",
    "- Because of the so-to-speak slow speed of firing of the chemico-physical processes involved in the vision, a fast change in light intensity may be impossible to be detected.\n",
    "- This is why, as illustrated in the video above, a fast fast rotating stripe of LEDs can give the illusion of being a 2D disk !\n",
    "- Actually the video present already a remanent object, due to the camera limited acquisition speed and frame integration time..."
   ]
  },
  {
   "cell_type": "markdown",
   "id": "b235a2b5-ae74-4d79-8261-e7e39914acd3",
   "metadata": {
    "tags": []
   },
   "source": [
    "# Vision limitations and optical illusions"
   ]
  },
  {
   "cell_type": "markdown",
   "id": "ef63c000-0932-4a84-a5f0-ecbe478e4451",
   "metadata": {},
   "source": [
    "\n",
    "Here are some classical optical illusions that can trick your eye, maybe machine vision can be used here to avoid some troubles...\n",
    "\n",
    "\n",
    "![jpeg](output_42_0.jpg)\n",
    "        \n",
    "![png](output_43_0.png)\n",
    "    \n",
    "![png](output_44_0.png)\n",
    "\n",
    "<img src=\"https://upload.wikimedia.org/wikipedia/commons/6/6e/Lilac-Chaser.gif\"/>\n",
    "\n",
    "<img src=\"https://upload.wikimedia.org/wikipedia/commons/thumb/b/b8/Optical-illusion-checkerboard-twisted-cord.svg/500px-Optical-illusion-checkerboard-twisted-cord.svg.png\"/>\n"
   ]
  }
 ],
 "metadata": {
  "kernelspec": {
   "display_name": "Python 3 (ipykernel)",
   "language": "python",
   "name": "python3"
  },
  "language_info": {
   "codemirror_mode": {
    "name": "ipython",
    "version": 3
   },
   "file_extension": ".py",
   "mimetype": "text/x-python",
   "name": "python",
   "nbconvert_exporter": "python",
   "pygments_lexer": "ipython3",
   "version": "3.11.4"
  }
 },
 "nbformat": 4,
 "nbformat_minor": 5
}
