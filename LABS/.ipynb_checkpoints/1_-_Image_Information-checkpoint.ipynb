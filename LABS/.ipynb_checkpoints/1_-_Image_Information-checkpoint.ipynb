{
 "cells": [
  {
   "cell_type": "markdown",
   "metadata": {},
   "source": [
    "# Image Information\n",
    "\n",
    "The main objectives of this module are:\n",
    "\n",
    "* Manipulate an image with Python, scikit-image and numpy.\n",
    "* Process images at the pixel level.\n",
    "* Compute and understand image histograms.\n",
    "* Understand lossless compression & reconstruction.\n",
    "* Understand the co-occurrence matrix.\n",
    "* Use different colour representations."
   ]
  },
  {
   "cell_type": "markdown",
   "metadata": {},
   "source": [
    "## 1. Read & write an image\n",
    "\n",
    "In this exercise, we will simply open an image file, display it, and save a copy. \n",
    "\n",
    "**Use the [scikit-image io](https://scikit-image.org/docs/dev/api/skimage.io.html) module to open, show & save a copy of the \"camera.jpg\" image.**\n",
    "\n",
    "*Note: we use the **%matplotlib inline** command to display the image in the notebook. It would not be necessary if you execute the code in the terminal or in a standard IDE like PyCharm.*"
   ]
  },
  {
   "cell_type": "code",
   "execution_count": null,
   "metadata": {},
   "outputs": [],
   "source": [
    "from skimage.io import imread,imsave,imshow\n",
    "%matplotlib inline\n",
    "\n",
    "## -- Your code here -- ##\n"
   ]
  },
  {
   "cell_type": "markdown",
   "metadata": {},
   "source": [
    "When you open an image with scikit-image, it is stored as a Numpy [ndarray](https://numpy.org/doc/stable/reference/generated/numpy.ndarray.html) object. Numpy arrays are objects which can be easily manipulated for numerical computations.\n",
    "\n",
    "**Using *ndarray* methods & attributes, answer the following questions about the \"camera\" image:**\n",
    "\n",
    "1. What is the shape of the image? (width & height)\n",
    "1. What is the minimum pixel value? What is the maximum pixel value?\n",
    "1. What is the data type for each pixel?\n",
    "1. Show only a 100x100 pixels window taken at the center of the image."
   ]
  },
  {
   "cell_type": "code",
   "execution_count": null,
   "metadata": {},
   "outputs": [],
   "source": [
    "import numpy as np\n",
    "\n",
    "## -- Your code here -- ##"
   ]
  },
  {
   "cell_type": "markdown",
   "metadata": {},
   "source": [
    "**Need more help? You can check the following videos:**\n",
    "\n",
    "* [Image I/O](https://www.youtube.com/watch?v=rgJmji4rTpw&list=PLI3XOM9BWLSW6vTPxc9ZfSABS31o7HMub&index=1)\n",
    "* [Image data type & color channels](https://www.youtube.com/watch?v=rIO1EJ--yeg&list=PLI3XOM9BWLSW6vTPxc9ZfSABS31o7HMub&index=2)"
   ]
  },
  {
   "cell_type": "markdown",
   "metadata": {},
   "source": [
    "## 2. Image histograms\n",
    "\n",
    "* Compute and plot the **histogram** and the **normalized histogram** of the example cameraman image given below.\n",
    "\n",
    "You can use the [pyplot module](https://matplotlib.org/api/pyplot_api.html) from matplotlib to display plots & histograms."
   ]
  },
  {
   "cell_type": "code",
   "execution_count": null,
   "metadata": {},
   "outputs": [],
   "source": [
    "from matplotlib import pyplot as plt\n",
    "\n",
    "## -- Your code here -- ##\n"
   ]
  },
  {
   "cell_type": "markdown",
   "metadata": {},
   "source": [
    "Can you use the histogram to answer the following questions ? (you don't need to code anything here)\n",
    "\n",
    "1. What is the average gray value of the cameraman ?\n",
    "1. What is the average gray value of the sky ?\n",
    "1. Is there more 'cameraman' pixels than 'sky' pixels ?"
   ]
  },
  {
   "cell_type": "markdown",
   "metadata": {},
   "source": [
    "Compute and plot the **cumulated histogram**."
   ]
  },
  {
   "cell_type": "code",
   "execution_count": null,
   "metadata": {},
   "outputs": [],
   "source": [
    "\n",
    "## -- Your code here -- ##\n"
   ]
  },
  {
   "cell_type": "markdown",
   "metadata": {},
   "source": [
    "**Need more help? You can check the following videos:**\n",
    "\n",
    "* [Computing a greyscale histogram](https://www.youtube.com/watch?v=g6hkHQbwB0I&list=PLI3XOM9BWLSW6vTPxc9ZfSABS31o7HMub&index=3)\n",
    "* [Numpy arrays: operations, indexing, masking](https://www.youtube.com/watch?v=rPNTkrM2dZw&list=PLI3XOM9BWLSW6vTPxc9ZfSABS31o7HMub&index=4&t=253s)\n",
    "* [Normalized and cumulative histograms](https://www.youtube.com/watch?v=uCgu0-KZt1o&list=PLI3XOM9BWLSW6vTPxc9ZfSABS31o7HMub&index=5)"
   ]
  },
  {
   "cell_type": "markdown",
   "metadata": {},
   "source": [
    "## 3. Image entropy\n",
    "\n",
    "The \"entropy\" of a signal, in information theory, can generally be interpreted as the \"number of bits required to encode the signal\". It is a measure of the \"amount of information\" contained in the signal. Intuitively, a signal with a very narrow distribution (all values are close to each other) will have a very low entropy, while a signal with a wide distribution (the values are evenly distributed) will have a higher entropy.\n",
    "\n",
    "1. Compute the image entropy of the cameraman image. The image entropy is given by $e = - \\sum_{g=0}^N p(g) \\log_2(p(g))$ where $p(g)$ is the probability that a pixel has the grayscale value g, and N is the number of possible grayscale values. Note that p(g) is directly given by the normalized histogram.\n",
    "1. What is the entropy of a shuffled version of the cameraman ?"
   ]
  },
  {
   "cell_type": "code",
   "execution_count": null,
   "metadata": {},
   "outputs": [],
   "source": [
    "    \n",
    "# -- Your code here -- #\n"
   ]
  },
  {
   "cell_type": "markdown",
   "metadata": {},
   "source": [
    "**Need more help? You can check the following videos:**\n",
    "\n",
    "* [Computing the image entropy](https://www.youtube.com/watch?v=L2VtGt2FsRQ&list=PLI3XOM9BWLSW6vTPxc9ZfSABS31o7HMub&index=6)"
   ]
  },
  {
   "cell_type": "markdown",
   "metadata": {},
   "source": [
    "## 4. Image compression\n",
    "\n",
    "Using the code below as a starting point:\n",
    "\n",
    "* **Decompose an image** by recursively subsampling its dimensions and computing the remainders, such that each level of recursion performs the following operation:\n",
    "\n",
    "<img src='PyramidCompression.png' width='75%'/>"
   ]
  },
  {
   "cell_type": "code",
   "execution_count": null,
   "metadata": {},
   "outputs": [],
   "source": [
    "%matplotlib inline\n",
    "import numpy as np\n",
    "import matplotlib.pyplot as plt\n",
    "from matplotlib import cm\n",
    "from skimage.io import imread\n",
    "\n",
    "# Modify this method:\n",
    "def split(im):\n",
    "    a = im[0:-1:2,0:-1:2]\n",
    "    b = im[0:-1:2,1::2]\n",
    "    c = im[1::2,0:-1:2]\n",
    "    d = im[1::2,1::2]\n",
    "    \n",
    "    R = np.vstack((np.hstack((a,b)),np.hstack((c,d))))\n",
    "    return R\n",
    "\n",
    "im = imread('camera.jpg').astype(np.int16) # cast the camera image as a signed integer to avoid overflow\n",
    "s = split(im)\n",
    "\n",
    "plt.figure(figsize=(12,12))\n",
    "# interpolation='nearest' -> don't try to interpolate values between pixels if the size of the display is different from the size of the image\n",
    "# cmap=cm.gray -> display in grayscale\n",
    "# vmin=-255 -> set \"black\" as -255\n",
    "# vmax=255 -> set \"white\" as 255\n",
    "plt.imshow(s,interpolation='nearest',cmap=cm.gray,vmin=-255, vmax=255)\n",
    "plt.colorbar()\n",
    "\n",
    "plt.show()"
   ]
  },
  {
   "cell_type": "markdown",
   "metadata": {},
   "source": [
    "**Compute how the image entropy evolves** with regards to the level of decomposition"
   ]
  },
  {
   "cell_type": "code",
   "execution_count": null,
   "metadata": {},
   "outputs": [],
   "source": [
    "\n",
    "# -- Your code here -- #\n"
   ]
  },
  {
   "cell_type": "markdown",
   "metadata": {},
   "source": [
    "**Rebuild the original image** from the pyramid (allowing the selection the level of recursion)"
   ]
  },
  {
   "cell_type": "code",
   "execution_count": null,
   "metadata": {},
   "outputs": [],
   "source": [
    "\n",
    "# -- Your code here -- #\n"
   ]
  },
  {
   "cell_type": "markdown",
   "metadata": {},
   "source": [
    "**Need more help? You can check the following videos:**\n",
    "\n",
    "* [Subsampling and rescaling](https://www.youtube.com/watch?v=rYNUby5bIlA&list=PLI3XOM9BWLSW6vTPxc9ZfSABS31o7HMub&index=7)\n",
    "* [Pyramid compression](https://www.youtube.com/watch?v=yrsyF8T5OAU&list=PLI3XOM9BWLSW6vTPxc9ZfSABS31o7HMub&index=8)"
   ]
  },
  {
   "cell_type": "markdown",
   "metadata": {},
   "source": [
    "## 5. Co-occurrence matrix\n",
    "\n",
    "While the histogram of an image is independent of the position of the pixels, the co-occurrence matrix gives us information about their spatial distribution.\n",
    "\n",
    "A co-occurrence matrix is computed for a given displacement, looking at the pair of values spatially separated by that displacement. The co-occurrence matrix is a square matrix, its size given by the number of possible values that a pixels can take in the image.\n",
    "\n",
    "1. Compute de [cooccurrence matrix](https://en.wikipedia.org/wiki/Co-occurrence_matrix) for a chosen displacement $(\\Delta x,\\Delta y)$ (see [greycomatrix](http://scikit-image.org/docs/dev/api/skimage.feature.html#skimage.feature.greycomatrix) in scikit-image)\n",
    "1. What is the entropy of the cooccurrence matrix ?\n",
    "1. How does this entropy evolve if we increase the displacement ?"
   ]
  },
  {
   "cell_type": "code",
   "execution_count": null,
   "metadata": {},
   "outputs": [],
   "source": [
    "from skimage.feature import greycomatrix\n",
    "\n",
    "# -- Your code here -- #\n"
   ]
  },
  {
   "cell_type": "markdown",
   "metadata": {},
   "source": [
    "**Need more help? You can check the following videos:**\n",
    "\n",
    "* [Grayscale co-occurence matrix](https://www.youtube.com/watch?v=cq0Br3zB2AU&list=PLI3XOM9BWLSW6vTPxc9ZfSABS31o7HMub&index=9)"
   ]
  },
  {
   "cell_type": "markdown",
   "metadata": {},
   "source": [
    "## 6. Colour representations\n",
    "\n",
    "A colour image is typically encoded with three channels: Red, Green and Blue. In the example below, we open the *immunohistochemistry()* example image and split it into the three channels, which we display: "
   ]
  },
  {
   "cell_type": "code",
   "execution_count": null,
   "metadata": {},
   "outputs": [],
   "source": [
    "from skimage.data import immunohistochemistry\n",
    "\n",
    "im = immunohistochemistry() # scikit-image method to load the example image\n",
    "print(im.shape,im.dtype)\n",
    "r = im[:,:,0]\n",
    "g = im[:,:,1]\n",
    "b = im[:,:,2]\n",
    "\n",
    "plt.gray() # Use grayscale by default on 1-channel images, so you don't have to add cmap=plt.cm.gray everytime\n",
    "\n",
    "plt.figure(figsize=(12,12))\n",
    "plt.subplot(2,2,1)\n",
    "plt.imshow(im)\n",
    "plt.title('RGB')\n",
    "plt.subplot(2,2,2)\n",
    "plt.imshow(r)\n",
    "plt.title('Red')\n",
    "plt.subplot(2,2,3)\n",
    "plt.imshow(g)\n",
    "plt.title('Green')\n",
    "plt.subplot(2,2,4)\n",
    "plt.imshow(b)\n",
    "plt.title('Blue')\n",
    "plt.show()"
   ]
  },
  {
   "cell_type": "markdown",
   "metadata": {},
   "source": [
    "1. Compute & show the color histograms\n",
    "1. Convert the image to the HSV color space & compute the HSV histograms. [See the skimage documentation for reference on color transformation](http://scikit-image.org/docs/dev/api/skimage.color.html#rgb2hsv)\n",
    "1. Find a method to isolate the brown cells in the immunohistochemistry image\n",
    "    1. In the RGB space\n",
    "    1. In the HSV space"
   ]
  },
  {
   "cell_type": "code",
   "execution_count": null,
   "metadata": {},
   "outputs": [],
   "source": [
    "\n",
    "# -- Your code here -- #\n"
   ]
  },
  {
   "cell_type": "markdown",
   "metadata": {},
   "source": [
    "**Need more help? You can check the following videos:**\n",
    "\n",
    "* [RGB vs HSV](https://www.youtube.com/watch?v=oVpSTZtZQNM&list=PLI3XOM9BWLSW6vTPxc9ZfSABS31o7HMub&index=10)\n",
    "* [Distances: image space and colour space](https://www.youtube.com/watch?v=f6aJJldc38E&list=PLI3XOM9BWLSW6vTPxc9ZfSABS31o7HMub&index=11)\n",
    "* [Creating a Magic Wand](https://www.youtube.com/watch?v=Aw--_cJ7o5I&list=PLI3XOM9BWLSW6vTPxc9ZfSABS31o7HMub&index=12)"
   ]
  },
  {
   "cell_type": "markdown",
   "metadata": {},
   "source": [
    "# Coding Project - Watermark\n",
    "\n",
    "Write code to automatically add a watermark to a photograph.\n",
    "\n",
    "<img src='ex_wm.jpg' width=\"500px\" />\n",
    "\n",
    "## Main requirements\n",
    "\n",
    "The minimum requirements are to:\n",
    "* Add the white pixels from the watermark somewhere in the photograph.\n",
    "* Save the resulting image as an image file & display it in the notebook\n",
    "\n",
    "You may use the *watermark.png* file available in the GitHub repository, or choose/create your own.\n",
    "\n",
    "## Additional requirements\n",
    "\n",
    "(note: this is not an exhaustive list, use your imagination!)\n",
    "\n",
    "* Add an option to choose the watermark location\n",
    "* Add transparency effect to the watermark\n",
    "* Determine if the watermark should be dark or light based on the luminosity of the image\n",
    "* ...\n"
   ]
  },
  {
   "cell_type": "code",
   "execution_count": null,
   "metadata": {},
   "outputs": [],
   "source": [
    "\n",
    "# -- Your code here -- #\n"
   ]
  }
 ],
 "metadata": {
  "kernelspec": {
   "display_name": "Python 3",
   "language": "python",
   "name": "python3"
  },
  "language_info": {
   "codemirror_mode": {
    "name": "ipython",
    "version": 3
   },
   "file_extension": ".py",
   "mimetype": "text/x-python",
   "name": "python",
   "nbconvert_exporter": "python",
   "pygments_lexer": "ipython3",
   "version": "3.7.7"
  }
 },
 "nbformat": 4,
 "nbformat_minor": 2
}
