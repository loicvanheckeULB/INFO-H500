{
 "cells": [
  {
   "cell_type": "markdown",
   "metadata": {},
   "source": [
    "# Image Filtering\n",
    "\n",
    "The main objectives of this module are:\n",
    "\n",
    "* Implement point filtering with look-up tables.\n",
    "* Implement region filtering with kernel convolution, morphological operations and edge detection.\n",
    "* Understand spatial frequency information with the Fourier transform."
   ]
  },
  {
   "cell_type": "markdown",
   "metadata": {},
   "source": [
    "## 1. Look-up tables\n",
    "\n",
    "Look-up tables are a very useful tool to perform simple pixel-level filtering of an image.\n",
    "\n",
    "Numpy arrays indexing ([see reference here](http://docs.scipy.org/doc/numpy/user/basics.indexing.html)) is a very powerful tool, but can be a bit counter-intuitive at first. We will use it to quickly create and use look-up tables to transform an image.\n",
    "\n",
    "Look at the short example below. \n",
    "\n",
    "We construct an image with 4 possible values for each pixel (-> $I(x,y) \\in \\{0,1,2,3\\}$). We then build the following LUT:\n",
    "\n",
    "|Input value|Output value|\n",
    "|--|--|\n",
    "|0|2|\n",
    "|1|3|\n",
    "|2|1|\n",
    "|3|0|\n",
    "\n",
    "And we apply it on the image."
   ]
  },
  {
   "cell_type": "code",
   "execution_count": null,
   "metadata": {},
   "outputs": [],
   "source": [
    "import numpy as np\n",
    "import matplotlib.pyplot as plt\n",
    "from matplotlib import cm\n",
    "%matplotlib inline\n",
    "\n",
    "# Let's create a 3x3 \"image\" with 4 possible pixel values (in [0,3])\n",
    "im = np.array([[1,0,2],[2,1,3],[3,3,1]])\n",
    "\n",
    "# look-up table is a vector of size 4 mapping the new value for the pixels of m\n",
    "lut = np.array([2,3,1,0]) # maps 0 -> 2, 1 -> 3, 2 -> 1, 3 -> 0\n",
    "\n",
    "plt.figure(figsize=(8,2))\n",
    "plt.plot(lut)\n",
    "plt.title('Look-up table')\n",
    "plt.show()\n",
    "\n",
    "# we can use numpy vector indexing to apply the look-up table:\n",
    "new_im = lut[im] # This will create a new array with the same size as m\n",
    "\n",
    "plt.figure(figsize=(8,4))\n",
    "plt.subplot(1,2,1) #supblot is useful to display images side-by-side\n",
    "plt.imshow(im, cmap=cm.gray)\n",
    "plt.title('Original')\n",
    "plt.subplot(1,2,2)\n",
    "plt.imshow(new_im, cmap=cm.gray)\n",
    "plt.title('LUT(Original)')\n",
    "plt.show()"
   ]
  },
  {
   "cell_type": "markdown",
   "metadata": {},
   "source": [
    "**Starting from this example, create the following LUTs** and apply them to the \"walking.jpg\" image:\n",
    "1. For inverting an image (so that $0 \\rightarrow 255$, $255 \\rightarrow 0$)\n",
    "1. To keep only graylevel such that $g \\ge t$, setting all other values to 0.\n",
    "1. To reduce the number of gray levels from 256 to 8 (so that $255 \\rightarrow 7$, $0 \\rightarrow 0$).\n",
    "1. To \"stretch\" the histogram so that, given a **minimum value** $T_{min}$ and a **maximum value** $T_{max}$, we have :\n",
    "    * If $I(x,y) < T_{min}$, the new value is set to 0\n",
    "    * If $I(x,y) > T_{max}$, the new value is set to 255\n",
    "    * Values between $T_{min}$ and $T_{max}$ are stretched to cover the entire histogram.\n",
    "1. to perform an **equalization** of the cameraman image (so that the histogram becomes \"as flat as possible\")"
   ]
  },
  {
   "cell_type": "code",
   "execution_count": null,
   "metadata": {},
   "outputs": [],
   "source": [
    "from skimage.io import imread,imshow,imsave\n",
    "\n",
    "im = imread('walking.jpg')\n",
    "print(im.shape, im.dtype)\n",
    "plt.figure(figsize=(10,10))\n",
    "imshow(im)\n",
    "plt.show()\n",
    "\n",
    "## -- Your code here -- ##\n"
   ]
  },
  {
   "cell_type": "markdown",
   "metadata": {},
   "source": [
    "**Need more help? You can check the following videos:**\n",
    "\n",
    "* [Look-Up Tables](https://www.youtube.com/watch?v=PHiiKoSsVac&list=PLI3XOM9BWLSW6vTPxc9ZfSABS31o7HMub&index=13)\n",
    "* [Auto-levels](https://www.youtube.com/watch?v=DLN4jfBJakQ&list=PLI3XOM9BWLSW6vTPxc9ZfSABS31o7HMub&index=14)\n",
    "* [Equalization](https://www.youtube.com/watch?v=C44WuMUudik&list=PLI3XOM9BWLSW6vTPxc9ZfSABS31o7HMub&index=15)"
   ]
  },
  {
   "cell_type": "markdown",
   "metadata": {},
   "source": [
    "## 2. Kernel convolution\n",
    "\n",
    "Kernal convolution allows us to filter an image based on the values of a neighborhood.\n",
    "\n",
    "Write a program that applies a 3x3 kernel convolution on an image. Use it on the \"walking\" image to perform a mean filter."
   ]
  },
  {
   "cell_type": "code",
   "execution_count": null,
   "metadata": {},
   "outputs": [],
   "source": [
    "def conv(im, kernel):\n",
    "    pass # TO DO\n",
    "\n",
    "im = imread('walking.jpg')\n",
    "\n",
    "## -- Your code here -- ##\n"
   ]
  },
  {
   "cell_type": "markdown",
   "metadata": {},
   "source": [
    "Using the [median filter](https://scikit-image.org/docs/stable/api/skimage.filters.rank.html#skimage.filters.rank.median) and the [mean filter](https://scikit-image.org/docs/dev/api/skimage.filters.rank.html#skimage.filters.rank.mean) from scikit-image, compare the behaviour of the two filters with neighborhood of increasing sizes on the \"noisy\" astronaut image:"
   ]
  },
  {
   "cell_type": "code",
   "execution_count": null,
   "metadata": {},
   "outputs": [],
   "source": [
    "from skimage.filters.rank import mean, median\n",
    "\n",
    "im = imread('astronaut_noisy.jpg')\n",
    "imshow(im)\n",
    "\n",
    "## -- Your code here -- ##\n"
   ]
  },
  {
   "cell_type": "markdown",
   "metadata": {},
   "source": [
    "**Need more help? You can check the following videos:**\n",
    "\n",
    "* [Kernel convolution](https://www.youtube.com/watch?v=FaTvGWPnLng&list=PLI3XOM9BWLSW6vTPxc9ZfSABS31o7HMub&index=16)\n",
    "* [Mean and Median filters](https://www.youtube.com/watch?v=GLTuF3lwDLs&list=PLI3XOM9BWLSW6vTPxc9ZfSABS31o7HMub&index=17)"
   ]
  },
  {
   "cell_type": "markdown",
   "metadata": {},
   "source": [
    "## 3. 2D Fourier transform\n",
    "\n",
    "The 2D Fourier transform allows us to get a representation of the spatial frequencies present in an image. A very powerful way of filtering images is to modify those frequencies directly by modifying the \"Fourier image\", and to use the inverse transform to get the pixel values of the filtered image.\n",
    "\n",
    "Let's illustrate that with a fake example. We start with a completely random signal and compute the Fourier transform. Note that the Fourier image is complex, so we use its amplitude. As the range of amplitudes is so high that we don't see much in the resulting image, we display the log of the amplitude."
   ]
  },
  {
   "cell_type": "code",
   "execution_count": null,
   "metadata": {},
   "outputs": [],
   "source": [
    "from numpy.fft import fft2,ifft2,fftshift,ifftshift\n",
    "# fft2 -> Fourier transform\n",
    "# ifft2 -> Inverse transform\n",
    "# fftshift & ifftshift -> reorganize the \"Fourier image\" to make it more easily interpretable.\n",
    "\n",
    "im = np.random.random((512,512))\n",
    "f = fftshift(fft2(im))\n",
    "amplitude = np.sqrt(np.real(f)**2+np.imag(f)**2)\n",
    "\n",
    "plt.figure(figsize=[10,5])\n",
    "plt.subplot(1,2,1)\n",
    "plt.imshow(im,cmap = plt.cm.gray)\n",
    "plt.title('$f(x,y)$')\n",
    "plt.subplot(1,2,2)\n",
    "plt.imshow(np.log(amplitude))# show log so as to see more than just the global maximum\n",
    "plt.title('$log(sqrt(|F(u,v)|^2))$')\n",
    "plt.show()"
   ]
  },
  {
   "cell_type": "markdown",
   "metadata": {},
   "source": [
    "We could now, for instance, decide to add an horizontal frequency by creating peaks in the Fourier image on the horizontal axis. The further away from the center we put the peaks, the higher the frequency."
   ]
  },
  {
   "cell_type": "code",
   "execution_count": null,
   "metadata": {},
   "outputs": [],
   "source": [
    "f2 = f.copy()\n",
    "f2[250:262,262:272] *= 1000\n",
    "f2[250:262,240:250] *= 1000\n",
    "amplitude = np.sqrt(np.real(f2)**2+np.imag(f2)**2)\n",
    "im2 = ifft2(ifftshift(f2)).real\n",
    "\n",
    "plt.figure(figsize=[10,5])\n",
    "plt.subplot(1,2,1)\n",
    "plt.imshow(im2,cmap = plt.cm.gray)\n",
    "plt.title('$f(x,y)$')\n",
    "plt.subplot(1,2,2)\n",
    "plt.imshow(np.log(amplitude))# show log so as to see more than just the global maximum\n",
    "plt.title('$log(sqrt(|F(u,v)|^2))$')\n",
    "plt.show()"
   ]
  },
  {
   "cell_type": "markdown",
   "metadata": {},
   "source": [
    "Now we could also decide to mask the central region, which would remove the peaks that we just created and put all those values at zero. The image will once again look random:"
   ]
  },
  {
   "cell_type": "code",
   "execution_count": null,
   "metadata": {},
   "outputs": [],
   "source": [
    "f3 = f2.copy()\n",
    "f3[250:262,240:272] = 0\n",
    "amplitude = np.sqrt(np.real(f3)**2+np.imag(f3)**2)\n",
    "im3 = ifft2(ifftshift(f3)).real\n",
    "\n",
    "plt.figure(figsize=[10,5])\n",
    "plt.subplot(1,2,1)\n",
    "plt.imshow(im3,cmap = plt.cm.gray)\n",
    "plt.title('$f(x,y)$')\n",
    "plt.subplot(1,2,2)\n",
    "plt.imshow(np.log(amplitude, where=amplitude>0))\n",
    "plt.title('$log(sqrt(|F(u,v)|^2))$')\n",
    "plt.show()"
   ]
  },
  {
   "cell_type": "markdown",
   "metadata": {},
   "source": [
    "Starting from those examples and the code below:\n",
    "\n",
    "1. Use the Fourier transform to reduce the [dithering](https://en.wikipedia.org/wiki/Dither) of the *moire.png* image by building a low-pass filter.\n",
    "1. Build a high-pass filter using Fourier transform and apply the filter to the \"walking\" image."
   ]
  },
  {
   "cell_type": "code",
   "execution_count": null,
   "metadata": {},
   "outputs": [],
   "source": [
    "im = imread('moire1.png').astype(np.float)\n",
    "f = fftshift(fft2(im)) # shift Fourier image so that the center corresponds to low frequencies\n",
    "\n",
    "amplitude = np.sqrt(np.real(f)**2+np.imag(f)**2)\n",
    "\n",
    "plt.figure(figsize=[10,5])\n",
    "plt.subplot(1,2,1)\n",
    "plt.imshow(im,cmap = plt.cm.gray)\n",
    "plt.title('$f(x,y)$')\n",
    "plt.subplot(1,2,2)\n",
    "plt.imshow(np.log(amplitude))# show log so as to see more than just the global maximum\n",
    "plt.title('$log(|F(u,v)|^2)$')\n",
    "plt.show()"
   ]
  },
  {
   "cell_type": "code",
   "execution_count": null,
   "metadata": {},
   "outputs": [],
   "source": [
    "\n",
    "## -- Your code here -- ##\n"
   ]
  },
  {
   "cell_type": "markdown",
   "metadata": {},
   "source": [
    "**Need more help? You can check the following videos:**\n",
    "\n",
    "* [Understanding the 2D Fourier transform](https://www.youtube.com/watch?v=bsNQpeBZ7IY&list=PLI3XOM9BWLSW6vTPxc9ZfSABS31o7HMub&index=18)\n",
    "* [Filters in Fourier space](https://www.youtube.com/watch?v=8g-sE7wkKpU&list=PLI3XOM9BWLSW6vTPxc9ZfSABS31o7HMub&index=19)"
   ]
  },
  {
   "cell_type": "markdown",
   "metadata": {},
   "source": [
    "## 4. Morphological operations\n",
    "\n",
    "* For morphology functions, [see the skimage documentation](http://scikit-image.org/docs/dev/api/skimage.morphology.html?highlight=morphology#module-skimage.morphology)\n",
    "\n",
    "Starting from the example below:\n",
    "\n",
    "1. Using the \"opening\" operation with a disk structuring element of increasing size, determine how many circles of any given radius there are in the *circles.png* image.\n",
    "1. Build a morphological filter that eliminates one size of circles."
   ]
  },
  {
   "cell_type": "code",
   "execution_count": null,
   "metadata": {},
   "outputs": [],
   "source": [
    "%matplotlib inline\n",
    "import numpy as np\n",
    "import matplotlib.pyplot as plt\n",
    "from matplotlib import cm\n",
    "from skimage.io import imread\n",
    "from skimage.morphology import disk, erosion, dilation\n",
    "\n",
    "im = imread('circles1.png')==0 #to be sure objects are = 1\n",
    "plt.imshow(im,cmap=plt.cm.gray);\n",
    "\n",
    "# use the local maximum and local minimum for dilation and erosion\n",
    "eroded_image = erosion(im,disk(5))\n",
    "dilated_image = dilation(im,disk(5))\n",
    "\n",
    "plt.figure(figsize=[10,8])\n",
    "plt.subplot(1,2,1)\n",
    "plt.imshow(eroded_image)\n",
    "plt.title('erosion')\n",
    "plt.subplot(1,2,2)\n",
    "plt.imshow(dilated_image)\n",
    "plt.title('dilation')\n",
    "\n",
    "# note that \"erosion\" and \"dilation\" are the same as the \"local minimum\" and \"local maximum\" :\n",
    "from skimage.filters.rank import minimum,maximum\n",
    "eroded_image = minimum(im.astype('uint8'), disk(5))\n",
    "dilated_image = maximum(im.astype('uint8'), disk(5))\n",
    "\n",
    "plt.figure(figsize=[10,8])\n",
    "plt.subplot(1,2,1)\n",
    "plt.imshow(eroded_image)\n",
    "plt.title('erosion')\n",
    "plt.subplot(1,2,2)\n",
    "plt.imshow(dilated_image)\n",
    "plt.title('dilation')"
   ]
  },
  {
   "cell_type": "markdown",
   "metadata": {},
   "source": [
    "**Need more help? You can check the following videos:**\n",
    "\n",
    "* [Morphological operations](https://www.youtube.com/watch?v=b64M2dZaWPA&list=PLI3XOM9BWLSW6vTPxc9ZfSABS31o7HMub&index=20)"
   ]
  },
  {
   "cell_type": "markdown",
   "metadata": {},
   "source": [
    "## 5. Edge detection\n",
    "\n",
    "Using the [convolve2d](http://docs.scipy.org/doc/scipy-0.15.1/reference/generated/scipy.signal.convolve2d.html) function, develop the Sobel filter. \n",
    "The Sobel operator is given by\n",
    "$$\\mathbf{G} = \\sqrt{ {\\mathbf{G}_x}^2 + {\\mathbf{G}_y}^2 }$$\n",
    "where $G_x$ and $G_y$ are images respectively obtained by a convolution with the given kernels\n",
    "$$\\mathbf{g}_y = \\begin{bmatrix} \n",
    "    -1 & -2 & -1  \\\\\n",
    "    0 & 0 & 0 \\\\\n",
    "    +1 & +2 & +1 \n",
    "    \\end{bmatrix}\n",
    "    \\quad\n",
    "    \\mbox{and}\n",
    "    \\quad   \n",
    "    \\mathbf{g}_x = \\begin{bmatrix} \n",
    "    -1 & 0 & +1 \\\\\n",
    "    -2 & 0 & +2 \\\\\n",
    "    -1 & 0 & +1 \n",
    "    \\end{bmatrix}\n",
    "    $$\n",
    "\n",
    "**Apply the Sobel filter** to find the edges in the \"road\" image.\n",
    "\n",
    "Compare with the results of the **Canny edge filter** with different \"sigma\" values (see [the skimage documentation](http://scikit-image.org/docs/dev/auto_examples/edges/plot_canny.html))"
   ]
  },
  {
   "cell_type": "code",
   "execution_count": null,
   "metadata": {},
   "outputs": [],
   "source": [
    "from skimage.data import camera\n",
    "from skimage.io import imread\n",
    "\n",
    "im = imread('road.jpg', as_gray=True)\n",
    "\n",
    "plt.figure(figsize=(15,15))\n",
    "plt.imshow(im, cmap=plt.cm.gray)\n",
    "plt.show()\n",
    "\n",
    "## -- Your code here -- ##\n"
   ]
  },
  {
   "cell_type": "markdown",
   "metadata": {},
   "source": [
    "Use the **[Hough transform](http://scikit-image.org/docs/dev/auto_examples/edges/plot_line_hough_transform.html)** to find the main straight lines in the road image, using the results from the Canny edge detector."
   ]
  },
  {
   "cell_type": "code",
   "execution_count": null,
   "metadata": {},
   "outputs": [],
   "source": [
    "\n",
    "## -- Your code here -- ##\n"
   ]
  },
  {
   "cell_type": "markdown",
   "metadata": {},
   "source": [
    "**Need more help? You can check the following videos:**\n",
    "\n",
    "* [Edge detection with the Sobel filter](https://www.youtube.com/watch?v=QCjh8yyW-Wo&list=PLI3XOM9BWLSW6vTPxc9ZfSABS31o7HMub&index=21)\n",
    "* [Edge detection with the Canny transform](https://www.youtube.com/watch?v=yS5NnpWmuuI&list=PLI3XOM9BWLSW6vTPxc9ZfSABS31o7HMub&index=22)\n",
    "* [Line detection with the Hough Transform](https://www.youtube.com/watch?v=GD2xipfKQyY&list=PLI3XOM9BWLSW6vTPxc9ZfSABS31o7HMub&index=23)"
   ]
  },
  {
   "cell_type": "markdown",
   "metadata": {},
   "source": [
    "# Coding project - Picture enhancement\n",
    "\n",
    "Write code that automatically enhances a photograph.\n",
    "\n",
    "<img src=\"etretat.jpg\" width=\"250px\" />\n",
    "<img src=\"ex_enhance.jpg\" width=\"250px\" />\n",
    "\n",
    "\"Enhance\" may mean a lot of different things, and we encourage you to be creative in which enhancements you want to implement.\n",
    "\n",
    "Some possibilities include (not an exhaustive list):\n",
    "\n",
    "* Noise reduction\n",
    "* Auto-level\n",
    "* Gamma correction (with gamma provided by the user or automatically determined from the image histogram)\n",
    "* Increase colour saturation\n",
    "* ..."
   ]
  },
  {
   "cell_type": "code",
   "execution_count": null,
   "metadata": {},
   "outputs": [],
   "source": [
    "\n",
    "# -- Your code here -- #\n"
   ]
  }
 ],
 "metadata": {
  "kernelspec": {
   "display_name": "Python 3",
   "language": "python",
   "name": "python3"
  },
  "language_info": {
   "codemirror_mode": {
    "name": "ipython",
    "version": 3
   },
   "file_extension": ".py",
   "mimetype": "text/x-python",
   "name": "python",
   "nbconvert_exporter": "python",
   "pygments_lexer": "ipython3",
   "version": "3.7.7"
  }
 },
 "nbformat": 4,
 "nbformat_minor": 2
}
