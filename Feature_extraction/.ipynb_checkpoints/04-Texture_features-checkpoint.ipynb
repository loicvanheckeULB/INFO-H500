{
 "cells": [
  {
   "cell_type": "code",
   "execution_count": null,
   "metadata": {},
   "outputs": [],
   "source": [
    "%matplotlib inline\n",
    "from IPython.display import HTML,Image,SVG,YouTubeVideo"
   ]
  },
  {
   "cell_type": "markdown",
   "metadata": {},
   "source": [
    "# Texture features\n",
    "\n",
    "Here is an example of a texture found in ultrasound medical imaging, the image exhibits a clear striation pattern due to muscle fiber orientation."
   ]
  },
  {
   "cell_type": "code",
   "execution_count": null,
   "metadata": {},
   "outputs": [],
   "source": [
    "Image('../data/muscle.jpg')"
   ]
  },
  {
   "cell_type": "markdown",
   "metadata": {},
   "source": [
    "The following video sequience illustrates how fiber orientation can vary during the motricity exercice."
   ]
  },
  {
   "cell_type": "code",
   "execution_count": null,
   "metadata": {},
   "outputs": [],
   "source": [
    "from IPython.display import YouTubeVideo\n",
    "YouTubeVideo('PUcz11MLxUk', start=0, autoplay=1, theme=\"light\", color=\"blue\",)"
   ]
  },
  {
   "cell_type": "markdown",
   "metadata": {},
   "source": [
    "Here are some classical textures extracted from an atlas (Broadatz). Texture can be natural, such as grains, sand, soil, stone, biological tissue or resulting from a human artifact such as fabric, wall, pavements ...\n",
    "\n",
    "Texture in an image can be characterized by a repetitive pattern or by a statistical geometrical distribution."
   ]
  },
  {
   "cell_type": "code",
   "execution_count": null,
   "metadata": {},
   "outputs": [],
   "source": [
    "Image('https://s3-eu-west-1.amazonaws.com/ppreviews-plos-725668748/569742/preview.jpg')"
   ]
  },
  {
   "cell_type": "markdown",
   "metadata": {},
   "source": [
    "[source](https://figshare.com/articles/figure/_Different_classes_of_texture_images_from_the_Brodatz_texture_database_/240239)"
   ]
  },
  {
   "cell_type": "markdown",
   "metadata": {},
   "source": [
    "Texture is relative to a region content, it can by due to\n",
    " a specific gray-level dynamic, a gray-level organisation\n",
    " one define several oreder for texture description:\n",
    "    \n",
    "* first order : the pixel alone is used ti compute the texture descriptor\n",
    "* second order : the pixel and one of its neighboor are used\n",
    "* third order : more than 1 neighboor are used"
   ]
  },
  {
   "cell_type": "markdown",
   "metadata": {},
   "source": [
    "## The coocurence matrix\n",
    "\n",
    ">see also:\n",
    "* the coocurence matrix in the [digital image section](../01-Introduction/03-Digital image.ipynb)\n",
    "\n",
    "Coorence matrix can be defined such as:\n",
    "\n",
    "$$\n",
    "C^{\\Delta x, \\Delta y}_{i,j}=\\sum_{p=1}^n\\sum_{q=1}^m\\begin{cases} 1, & \\mbox{if }I(p,q)=i\\mbox{ and }I(p+\\Delta x,q+\\Delta y)=j \\\\ 0, &\\mbox{otherwise}\\end{cases}\n",
    "$$\n",
    "\n",
    "for a given $(\\Delta x, \\Delta y)$ defining the neighborhood relationship.\n",
    "\n",
    "From the coocurence matrix $C$ one can extract several descriptors that are sensitive to the texture:\n",
    "\n",
    "Normalized coocurence matrix:\n",
    "\n",
    "$$ P_{i,j} = \\frac{C_{i,j}}{\\sum^{N-1}_{i,j=0} C_{i,j}}$$\n",
    "\n",
    "\n",
    "\n"
   ]
  },
  {
   "cell_type": "markdown",
   "metadata": {},
   "source": [
    "contrast measures\n",
    "\n",
    "$$Contrast = \\sum^{N-1}_{i,j=0} P_{i,j}(i-j)^2$$\n",
    "\n",
    "$$Dissimilarity = \\sum^{N-1}_{i,j=0} P_{i,j}|i-j|$$\n",
    "\n",
    "$$Homogeneity = \\sum^{N-1}_{i,j=0} \\frac{P_{i,j}}{1+(i+j)^2}$$\n",
    "\n"
   ]
  },
  {
   "cell_type": "markdown",
   "metadata": {},
   "source": [
    "organization measures\n",
    "\n",
    "$$ASM = \\sum^{N-1}_{i,j=0} P_{i,j}^2$$\n",
    "\n",
    "$$ Energy = \\sqrt{ASM}$$\n",
    "\n",
    "$$entropy = - \\sum^{N-1}_{i,j=0} P_{i,j} \\, \\log(P_{i,j})$$\n"
   ]
  },
  {
   "cell_type": "markdown",
   "metadata": {},
   "source": [
    "statistical measures\n",
    "\n",
    "$$ \\mu_i =  \\sum^{N-1}_{i,j=0} i\\,P_{i,j} $$\n",
    "$$ \\mu_j =  \\sum^{N-1}_{i,j=0} j\\,P_{i,j} $$\n",
    "$$ \\sigma_i =  \\sum^{N-1}_{i,j=0} (i-\\mu_i)^2\\,P_{i,j} $$\n",
    "$$ \\sigma_j =  \\sum^{N-1}_{i,j=0} (j-\\mu_j)^2\\,P_{i,j} $$\n",
    "\n",
    "$$Correlation = \\sum^{N-1}_{i,j=0} P_{i,j} \\, \\frac{(i-\\mu_i)(j-\\mu_j)}{\\sqrt{\\sigma_i^2 \\sigma_j^2}}$$"
   ]
  },
  {
   "cell_type": "markdown",
   "metadata": {},
   "source": [
    "## The Gabor filters\n",
    "\n",
    "Gabor filters are a family of 2D filter kernels based on the product of a cosine(a sine for imaginary part) function and a gaussian function such that:\n",
    "\n",
    "for the real part:\n",
    "\n",
    "$$g(x,y;\\lambda,\\theta,\\psi,\\sigma,\\gamma) = \\exp\\left(-\\frac{x'^2+\\gamma^2y'^2}{2\\sigma^2}\\right)\\cos\\left(2\\pi\\frac{x'}{\\lambda}+\\psi\\right)$$\n",
    "\n",
    "and for the imaginary part:\n",
    "\n",
    "$$g(x,y;\\lambda,\\theta,\\psi,\\sigma,\\gamma) = \\exp\\left(-\\frac{x'^2+\\gamma^2y'^2}{2\\sigma^2}\\right)\\sin\\left(2\\pi\\frac{x'}{\\lambda}+\\psi\\right)$$\n",
    "\n",
    "where\n",
    "\n",
    "$$x' = x \\cos\\theta + y \\sin\\theta$$\n",
    "\n",
    "and\n",
    "\n",
    "$$y' = -x \\sin\\theta + y \\cos\\theta$$\n",
    "\n",
    "The Gabor parameters are:\n",
    "\n",
    "* $\\lambda$ the wave length\n",
    "* $\\theta$ the orientation\n",
    "* $\\sigma$ the gaussian envelope\n",
    "* $\\gamma$ the form factor\n",
    "* $\\psi$ the phase"
   ]
  },
  {
   "cell_type": "code",
   "execution_count": null,
   "metadata": {},
   "outputs": [],
   "source": [
    "import numpy as np\n",
    "from scipy.ndimage.filters import convolve\n",
    "import matplotlib.pyplot as plt\n",
    "\n",
    "def gabor(sigma,theta,lam,psi,gamma,X,Y):\n",
    "    Xt = X * np.cos(theta) + Y * np.sin(theta)\n",
    "    Yt = -X * np.sin(theta) + Y * np.cos(theta)\n",
    "    n = Xt**2. + gamma**2. * Yt**2.\n",
    "    d = 2.0 * sigma**2\n",
    "    E1 = np.exp(- n/d)\n",
    "    a = 2.0*np.pi* Xt/lam + psi\n",
    "    E2 = np.exp(1j * a)\n",
    "    return E1 * E2\n",
    "\n",
    "def getGaborKernel(ksize,sigma,theta,lambd,gamma,psi):\n",
    "    X,Y = np.meshgrid(np.linspace(-1.,1.,ksize[0]),np.linspace(-1.,1.,ksize[1]))\n",
    "    G = gabor(sigma=sigma,theta=theta,lam=lambd,psi=psi,gamma=gamma,X=X,Y=Y)\n",
    "    return G\n",
    "\n",
    "\n",
    "ksize = [31,31]\n",
    "theta = 0.\n",
    "lambd = 10.\n",
    "gamma = .15\n",
    "psi = np.pi\n",
    "plt.figure();\n",
    "fig, axes = plt.subplots(nrows=1, ncols=4, figsize=(6, 6))\n",
    "for i,sigma in enumerate(np.linspace(.1,.5,4)):\n",
    "    kernel = getGaborKernel(ksize,sigma,theta,lambd,gamma,psi)\n",
    "    axes[i].imshow(np.abs(kernel),cmap=plt.cm.gray);\n",
    "    axes[i].set_xlabel('sigma = %.2f'%sigma)\n",
    "\n",
    "plt.figure();\n",
    "sigma = .1\n",
    "fig, axes = plt.subplots(nrows=1, ncols=4, figsize=(6, 6))\n",
    "for i,theta in enumerate(np.linspace(.1,.5,4)):\n",
    "    kernel = getGaborKernel(ksize,sigma,theta,lambd,gamma,psi)\n",
    "    axes[i].imshow(np.abs(kernel),cmap=plt.cm.gray)\n",
    "    axes[i].set_xlabel('theta = %.2f'%theta)\n",
    "    \n",
    "plt.figure();\n",
    "theta = 0\n",
    "fig, axes = plt.subplots(nrows=1, ncols=4, figsize=(6, 6))\n",
    "for i,gamma in enumerate(np.linspace(.1,1,4)):\n",
    "    kernel = getGaborKernel(ksize,sigma,theta,lambd,gamma,psi)\n",
    "    axes[i].imshow(np.abs(kernel),cmap=plt.cm.gray)\n",
    "    axes[i].set_xlabel('gamma = %.2f'%gamma)\n",
    "    \n",
    "plt.show()"
   ]
  },
  {
   "cell_type": "markdown",
   "metadata": {},
   "source": [
    "## Hurst coefficient\n",
    "\n",
    "Hurst coefficient are related to the local fractal dimension, the algorithm is the following:\n",
    "\n",
    "* compute local max and min (typ. on a 7 pixel octogonal neighbourhood)\n",
    "* plot the log (difference) vs log (distance)\n",
    "* least square fit the curve\n",
    "\n",
    "| pixel | # | distance |\n",
    "|-------|:-:|---------:|\n",
    "| a     | 1 |        0 |\n",
    "| b     | 4 |        1 |\n",
    "| c     | 4 | 1.41     |\n",
    "| d     | 4 | 2        |\n",
    "| e     | 8 | 2.236    |\n",
    "| f     | 4 | 2.828    |\n",
    "| g     | 4 | 3        |\n",
    "| h     | 8 | 3.162    |\n",
    "\n",
    "\n",
    "|   |   |   |   |   |   |   |\n",
    "|---|---|---|---|---|---|---|\n",
    "|   |   | h | g | h |   |   |\n",
    "|   | f | e | d | e | f |   |\n",
    "| h | e | c | b | c | e | h |\n",
    "| g | d | b | a | b | d | g |\n",
    "| h | e | c | b | c | e | h |\n",
    "|   | f | e | d | e | f |   |\n",
    "|   |   | h | g | h |   |   |\n",
    "\n"
   ]
  },
  {
   "cell_type": "markdown",
   "metadata": {},
   "source": [
    "## Fractal analysis\n",
    "\n",
    "Similarly we can analyse the value of the image filtered by a gaussian filter in a\n",
    "log/log plot of the pixel value with respect to the sigma of the filter. In the following example we compute the pixel gray level in five points located on the central line,\n",
    "the gray level is evaluated after applying a gaussian filter of increasing sigma.\n",
    "\n"
   ]
  },
  {
   "cell_type": "code",
   "execution_count": null,
   "metadata": {},
   "outputs": [],
   "source": [
    "import matplotlib.pyplot as plt\n",
    "import matplotlib.cm as cm\n",
    "import numpy as npy\n",
    "from skimage.io import imread\n",
    "from skimage.data import camera\n",
    "from scipy import ndimage,interpolate\n",
    "from scipy.ndimage.filters import convolve,gaussian_filter\n",
    "from os.path import join\n",
    "from mpl_toolkits.mplot3d import Axes3D\n",
    "\n",
    "\n",
    "im = camera()[-1::-2,::2].astype(float)\n",
    "\n",
    "sigmas = npy.asarray([.5,1.,1.5,2.,2.5])\n",
    "\n",
    "C = im.copy().astype(float)\n",
    "C = C[:,:,npy.newaxis]\n",
    "\n",
    "for s in sigmas:\n",
    "    c = gaussian_filter(im,s)\n",
    "    C = npy.dstack((C,c[:,:,npy.newaxis]))\n",
    "\n",
    "sample_n = 120\n",
    "samples_m = [230,186,146,72,20]\n",
    "\n",
    "log_scale = npy.log(sigmas)\n",
    "\n",
    "plt.figure(figsize=[5,5])\n",
    "for m in samples_m:\n",
    "    value = npy.ravel(C[m,sample_n,1:])\n",
    "    log_value = npy.log(value)\n",
    "    plt.plot(log_scale,log_value,label='y=%d'%m)\n",
    "plt.legend(loc=3)\n",
    "\n",
    "plt.figure(figsize=[5,5])\n",
    "plt.subplot(2,2,1)\n",
    "plt.imshow(im,interpolation='nearest',cmap=cm.gray,origin='lower')\n",
    "plt.title('original')\n",
    "plt.vlines(sample_n,0,256,color=[.8,0,0])\n",
    "\n",
    "for m in samples_m:\n",
    "    plt.hlines(m,sample_n-5,sample_n+5,color=[0,0.8,0])\n",
    "\n",
    "\n",
    "plt.subplot(2,2,2)\n",
    "plt.imshow(C[:,sample_n,:],interpolation='nearest',cmap=cm.gray,origin='lower',extent=[0,256,0,256])\n",
    "plt.show()"
   ]
  },
  {
   "cell_type": "markdown",
   "metadata": {},
   "source": [
    "Some location have a constant value with respect to the gaussian radius, suach as the pixel located in the sky, it means that this part of the image is very homogeneous and insensitive to gaussian filtering, on the opposite, a pixel located in the tripod ($y=72$) exhibits a variable profile, because it is situated into a part of the image having more high frequencies, therefore more sensitive to the gaussian filter."
   ]
  },
  {
   "cell_type": "markdown",
   "metadata": {
    "collapsed": true
   },
   "source": [
    ">see also:\n",
    "* Texture **[DIP]** p506\n",
    "* Fractal analysis: Hurst coeficient  **[IPH]** p262,208\n",
    "* Spectral approach  **[DIP]** p511\n",
    "* Gabor filters  **[HCVA]** vol2 p71\n",
    "* Edge-flow  **[Ma00]** vol2 p71\n",
    "* ...  **[DIPCASA]** p185"
   ]
  },
  {
   "cell_type": "code",
   "execution_count": null,
   "metadata": {},
   "outputs": [],
   "source": []
  }
 ],
 "metadata": {
  "kernelspec": {
   "display_name": "Python 3",
   "language": "python",
   "name": "python3"
  },
  "language_info": {
   "codemirror_mode": {
    "name": "ipython",
    "version": 3
   },
   "file_extension": ".py",
   "mimetype": "text/x-python",
   "name": "python",
   "nbconvert_exporter": "python",
   "pygments_lexer": "ipython3",
   "version": "3.7.7"
  }
 },
 "nbformat": 4,
 "nbformat_minor": 1
}
