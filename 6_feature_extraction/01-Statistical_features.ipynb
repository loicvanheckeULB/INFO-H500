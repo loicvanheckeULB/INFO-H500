{
 "cells": [
  {
   "cell_type": "code",
   "execution_count": 1,
   "metadata": {},
   "outputs": [],
   "source": [
    "%matplotlib inline\n",
    "from IPython.display import HTML,Image,SVG,YouTubeVideo"
   ]
  },
  {
   "cell_type": "markdown",
   "metadata": {},
   "source": [
    "# Statistical features\n"
   ]
  },
  {
   "cell_type": "markdown",
   "metadata": {},
   "source": [
    "The objects considered here are the connected components obtained after the image segmentation (i.e. objects vs. background). Each connected component can be identified using an image labelling algorithm. A feature is a measure extracted from an object. Object recognition is basically the association of a set of featured values with a certain class of object.\n",
    "\n",
    "The first feature that comes to mind is the intensity of the pixels of the object : the brightness of an object can be used as a descriptor. For a colored image, the red, green and blue distributions can be considered : what is called more generally spectral features (relative to the pixels 'color').\n",
    "\n",
    "Of course, the spectral mean is an interesting feature, but other statistical descriptors can be used such as variance, ... An example of a specialized spectral feature is the Normalized Difference Vegetation Index or NDVI, which mathematical definition is given below.\n",
    "$$\n",
    "\\mbox{NDVI}=\\frac{(\\mbox{NIR}-\\mbox{VIS})}{(\\mbox{NIR}+\\mbox{VIS})}\n",
    "$$\n",
    "NDVI is a vectorial scalar value extrated from several spectral measures in one pixel. It enables to characterize the level of present vegetation in a location. The following figures show how the visible and near infrared spectra are observed in the 7 Landsat spectral bands.\n",
    "|NDVI of Europa in June 2003|NDVI of Europa in October 2003|\n",
    "|:-:|:-:|\n",
    "|<img src=\"https://upload.wikimedia.org/wikipedia/commons/9/94/NDVI_062003.png\" alt=\"\" title=\"\" width=\"600\"/>|<img src=\"https://upload.wikimedia.org/wikipedia/commons/7/76/NDVI_102003.png\" alt=\"\" title=\"\" width=\"600\"/>|"
   ]
  }
 ],
 "metadata": {
  "kernelspec": {
   "display_name": "Python 3 (ipykernel)",
   "language": "python",
   "name": "python3"
  },
  "language_info": {
   "codemirror_mode": {
    "name": "ipython",
    "version": 3
   },
   "file_extension": ".py",
   "mimetype": "text/x-python",
   "name": "python",
   "nbconvert_exporter": "python",
   "pygments_lexer": "ipython3",
   "version": "3.11.4"
  }
 },
 "nbformat": 4,
 "nbformat_minor": 4
}
